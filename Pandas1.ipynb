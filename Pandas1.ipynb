{
  "nbformat": 4,
  "nbformat_minor": 0,
  "metadata": {
    "colab": {
      "provenance": [],
      "authorship_tag": "ABX9TyMN3ifV291zn43VPPcraRRT",
      "include_colab_link": true
    },
    "kernelspec": {
      "name": "python3",
      "display_name": "Python 3"
    },
    "language_info": {
      "name": "python"
    }
  },
  "cells": [
    {
      "cell_type": "markdown",
      "metadata": {
        "id": "view-in-github",
        "colab_type": "text"
      },
      "source": [
        "<a href=\"https://colab.research.google.com/github/arthireddy14/Numpy/blob/main/Pandas1.ipynb\" target=\"_parent\"><img src=\"https://colab.research.google.com/assets/colab-badge.svg\" alt=\"Open In Colab\"/></a>"
      ]
    },
    {
      "cell_type": "code",
      "execution_count": 2,
      "metadata": {
        "id": "fjnzUR_aW7G9"
      },
      "outputs": [],
      "source": [
        "import pandas as pd"
      ]
    },
    {
      "cell_type": "code",
      "source": [
        "import pandas as pd\n",
        "import numpy as np\n",
        "a_list=[2,4,5,6,8,9]\n",
        "ser=pd.Series(a_list,index=['1st','2nd','3rd','4th','5th','6th'])\n",
        "print(ser)"
      ],
      "metadata": {
        "colab": {
          "base_uri": "https://localhost:8080/"
        },
        "id": "s40K33WgXAsd",
        "outputId": "85752537-e259-4239-95bb-f473eaacaf3f"
      },
      "execution_count": 3,
      "outputs": [
        {
          "output_type": "stream",
          "name": "stdout",
          "text": [
            "1st    2\n",
            "2nd    4\n",
            "3rd    5\n",
            "4th    6\n",
            "5th    8\n",
            "6th    9\n",
            "dtype: int64\n"
          ]
        }
      ]
    },
    {
      "cell_type": "code",
      "source": [
        "from google.colab import drive\n",
        "drive.mount('/content/drive')"
      ],
      "metadata": {
        "id": "vM_C7Gk0ls_N"
      },
      "execution_count": null,
      "outputs": []
    },
    {
      "cell_type": "code",
      "source": [
        "a_dict={'1st':1,'2nd':5,'3rd':10,'4th':12}\n",
        "ser=pd.Series(a_dict)\n",
        "print(ser)"
      ],
      "metadata": {
        "colab": {
          "base_uri": "https://localhost:8080/"
        },
        "id": "n6cG5OaOfcPO",
        "outputId": "5fbb1112-769a-4f02-bc1e-98ea744990cb"
      },
      "execution_count": 4,
      "outputs": [
        {
          "output_type": "stream",
          "name": "stdout",
          "text": [
            "1st     1\n",
            "2nd     5\n",
            "3rd    10\n",
            "4th    12\n",
            "dtype: int64\n"
          ]
        }
      ]
    },
    {
      "cell_type": "code",
      "source": [],
      "metadata": {
        "id": "PCbkL2Z2fgY2"
      },
      "execution_count": 4,
      "outputs": []
    },
    {
      "cell_type": "markdown",
      "source": [
        "🎯 Your Task:\n",
        "Using Pandas Series, perform the following:\n",
        "\n",
        "✅ Create a Series named scores using the dictionary student_scores.\n",
        "\n",
        "✅ Print the marks scored by \"Charlie\" and \"Eva\".\n",
        "\n",
        "✅ Add 5 bonus marks to all students and print the updated Series.\n",
        "\n",
        "✅ Display only the students who scored above 90 after the bonus.\n",
        "\n",
        "✅ Calculate and print the average marks of the class (after the bonus)."
      ],
      "metadata": {
        "id": "QarTrShdflqi"
      }
    },
    {
      "cell_type": "code",
      "source": [
        "student_scores={\n",
        "    'Alice':85,\n",
        "    'Bob':90,\n",
        "    'Charlie':95,\n",
        "    'Eva':99,\n",
        "    'Minnu':80\n",
        "}\n",
        "scores=pd.Series(student_scores)\n",
        "print(scores)\n",
        "print(\"Charlie's score \",scores['Charlie'])\n",
        "print(\"Eva score \",scores['Eva'])\n",
        "scores+=5\n",
        "print(\"Scores after \\n\",scores)\n",
        "above_90=scores[scores>90]\n",
        "print(\"Student with score greater than 90 are\\n\",above_90)\n",
        "avg=scores.mean()\n",
        "print(\"Average marks after bonus \",avg)"
      ],
      "metadata": {
        "colab": {
          "base_uri": "https://localhost:8080/"
        },
        "id": "WwRJsCRjfpSR",
        "outputId": "6ae473d3-0bb8-4603-8924-cbd1073205c8"
      },
      "execution_count": 5,
      "outputs": [
        {
          "output_type": "stream",
          "name": "stdout",
          "text": [
            "Alice      85\n",
            "Bob        90\n",
            "Charlie    95\n",
            "Eva        99\n",
            "Minnu      80\n",
            "dtype: int64\n",
            "Charlie's score  95\n",
            "Eva score  99\n",
            "Scores after \n",
            " Alice       90\n",
            "Bob         95\n",
            "Charlie    100\n",
            "Eva        104\n",
            "Minnu       85\n",
            "dtype: int64\n",
            "Student with score greater than 90 are\n",
            " Bob         95\n",
            "Charlie    100\n",
            "Eva        104\n",
            "dtype: int64\n",
            "Average marks after bonus  94.8\n"
          ]
        }
      ]
    },
    {
      "cell_type": "code",
      "source": [
        "an_array=np.array([[25,85],[25,90],[26,70],[24,80]])\n",
        "ser=pd.DataFrame(an_array,index=['Roshan','Pramila','Geetha','Hamsini'],columns=['age','marks'])\n",
        "print(ser)\n",
        "#only for values\n",
        "print(\"For only values\\n\",ser.values)\n",
        "print(\"For ony indexes\\n\",ser.index)"
      ],
      "metadata": {
        "colab": {
          "base_uri": "https://localhost:8080/"
        },
        "id": "krfr0vAafwPo",
        "outputId": "27734bab-c77b-426b-fb1e-ac4a95fd91f7"
      },
      "execution_count": 9,
      "outputs": [
        {
          "output_type": "stream",
          "name": "stdout",
          "text": [
            "         age  marks\n",
            "Roshan    25     85\n",
            "Pramila   25     90\n",
            "Geetha    26     70\n",
            "Hamsini   24     80\n",
            "For only values\n",
            " [[25 85]\n",
            " [25 90]\n",
            " [26 70]\n",
            " [24 80]]\n",
            "For ony indexes\n",
            " Index(['Roshan', 'Pramila', 'Geetha', 'Hamsini'], dtype='object')\n"
          ]
        }
      ]
    },
    {
      "cell_type": "markdown",
      "source": [
        "Dataframe using dictionary"
      ],
      "metadata": {
        "id": "bYQiPaicf3Nc"
      }
    },
    {
      "cell_type": "code",
      "source": [
        "a_dict={'Name':{'Ra':'Rahul','Pr':'Prashanthi','Go':'Gourav','Ha':'Hasini'},'Age':{'Ra':25,'Pr':25,'Go':26,'Ha':24},'Marks':{'Ra':85,'Pr':90,'Go':70,'Ha':80}}\n",
        "df=pd.DataFrame(a_dict)\n",
        "print(df)"
      ],
      "metadata": {
        "colab": {
          "base_uri": "https://localhost:8080/"
        },
        "id": "DiVRmRz1gEyx",
        "outputId": "f4c491be-fb20-4f83-e7c1-c9c12f151b21"
      },
      "execution_count": 8,
      "outputs": [
        {
          "output_type": "stream",
          "name": "stdout",
          "text": [
            "          Name  Age  Marks\n",
            "Ra       Rahul   25     85\n",
            "Pr  Prashanthi   25     90\n",
            "Go      Gourav   26     70\n",
            "Ha      Hasini   24     80\n"
          ]
        }
      ]
    },
    {
      "cell_type": "code",
      "source": [],
      "metadata": {
        "id": "YSOLi9a-gXyy"
      },
      "execution_count": null,
      "outputs": []
    },
    {
      "cell_type": "markdown",
      "source": [
        "Using list and dictionary"
      ],
      "metadata": {
        "id": "KOYxjfC_gm_h"
      }
    },
    {
      "cell_type": "code",
      "source": [
        "import pandas as pd\n",
        "a_dict={'Name':['Ruskshan','Prasad','Gihat','Hansma'],'Age':[25,25,26,24],'Marks':[85,90,70,80]}\n",
        "ser=pd.DataFrame(a_dict)\n",
        "ser"
      ],
      "metadata": {
        "colab": {
          "base_uri": "https://localhost:8080/",
          "height": 174
        },
        "id": "Xtxj7HR5gpoQ",
        "outputId": "85007304-a482-40f8-f931-70d63c50cb4a"
      },
      "execution_count": 10,
      "outputs": [
        {
          "output_type": "execute_result",
          "data": {
            "text/plain": [
              "       Name  Age  Marks\n",
              "0  Ruskshan   25     85\n",
              "1    Prasad   25     90\n",
              "2     Gihat   26     70\n",
              "3    Hansma   24     80"
            ],
            "text/html": [
              "\n",
              "  <div id=\"df-29b7a9f2-6310-4364-b2d8-46ec1084b11b\" class=\"colab-df-container\">\n",
              "    <div>\n",
              "<style scoped>\n",
              "    .dataframe tbody tr th:only-of-type {\n",
              "        vertical-align: middle;\n",
              "    }\n",
              "\n",
              "    .dataframe tbody tr th {\n",
              "        vertical-align: top;\n",
              "    }\n",
              "\n",
              "    .dataframe thead th {\n",
              "        text-align: right;\n",
              "    }\n",
              "</style>\n",
              "<table border=\"1\" class=\"dataframe\">\n",
              "  <thead>\n",
              "    <tr style=\"text-align: right;\">\n",
              "      <th></th>\n",
              "      <th>Name</th>\n",
              "      <th>Age</th>\n",
              "      <th>Marks</th>\n",
              "    </tr>\n",
              "  </thead>\n",
              "  <tbody>\n",
              "    <tr>\n",
              "      <th>0</th>\n",
              "      <td>Ruskshan</td>\n",
              "      <td>25</td>\n",
              "      <td>85</td>\n",
              "    </tr>\n",
              "    <tr>\n",
              "      <th>1</th>\n",
              "      <td>Prasad</td>\n",
              "      <td>25</td>\n",
              "      <td>90</td>\n",
              "    </tr>\n",
              "    <tr>\n",
              "      <th>2</th>\n",
              "      <td>Gihat</td>\n",
              "      <td>26</td>\n",
              "      <td>70</td>\n",
              "    </tr>\n",
              "    <tr>\n",
              "      <th>3</th>\n",
              "      <td>Hansma</td>\n",
              "      <td>24</td>\n",
              "      <td>80</td>\n",
              "    </tr>\n",
              "  </tbody>\n",
              "</table>\n",
              "</div>\n",
              "    <div class=\"colab-df-buttons\">\n",
              "\n",
              "  <div class=\"colab-df-container\">\n",
              "    <button class=\"colab-df-convert\" onclick=\"convertToInteractive('df-29b7a9f2-6310-4364-b2d8-46ec1084b11b')\"\n",
              "            title=\"Convert this dataframe to an interactive table.\"\n",
              "            style=\"display:none;\">\n",
              "\n",
              "  <svg xmlns=\"http://www.w3.org/2000/svg\" height=\"24px\" viewBox=\"0 -960 960 960\">\n",
              "    <path d=\"M120-120v-720h720v720H120Zm60-500h600v-160H180v160Zm220 220h160v-160H400v160Zm0 220h160v-160H400v160ZM180-400h160v-160H180v160Zm440 0h160v-160H620v160ZM180-180h160v-160H180v160Zm440 0h160v-160H620v160Z\"/>\n",
              "  </svg>\n",
              "    </button>\n",
              "\n",
              "  <style>\n",
              "    .colab-df-container {\n",
              "      display:flex;\n",
              "      gap: 12px;\n",
              "    }\n",
              "\n",
              "    .colab-df-convert {\n",
              "      background-color: #E8F0FE;\n",
              "      border: none;\n",
              "      border-radius: 50%;\n",
              "      cursor: pointer;\n",
              "      display: none;\n",
              "      fill: #1967D2;\n",
              "      height: 32px;\n",
              "      padding: 0 0 0 0;\n",
              "      width: 32px;\n",
              "    }\n",
              "\n",
              "    .colab-df-convert:hover {\n",
              "      background-color: #E2EBFA;\n",
              "      box-shadow: 0px 1px 2px rgba(60, 64, 67, 0.3), 0px 1px 3px 1px rgba(60, 64, 67, 0.15);\n",
              "      fill: #174EA6;\n",
              "    }\n",
              "\n",
              "    .colab-df-buttons div {\n",
              "      margin-bottom: 4px;\n",
              "    }\n",
              "\n",
              "    [theme=dark] .colab-df-convert {\n",
              "      background-color: #3B4455;\n",
              "      fill: #D2E3FC;\n",
              "    }\n",
              "\n",
              "    [theme=dark] .colab-df-convert:hover {\n",
              "      background-color: #434B5C;\n",
              "      box-shadow: 0px 1px 3px 1px rgba(0, 0, 0, 0.15);\n",
              "      filter: drop-shadow(0px 1px 2px rgba(0, 0, 0, 0.3));\n",
              "      fill: #FFFFFF;\n",
              "    }\n",
              "  </style>\n",
              "\n",
              "    <script>\n",
              "      const buttonEl =\n",
              "        document.querySelector('#df-29b7a9f2-6310-4364-b2d8-46ec1084b11b button.colab-df-convert');\n",
              "      buttonEl.style.display =\n",
              "        google.colab.kernel.accessAllowed ? 'block' : 'none';\n",
              "\n",
              "      async function convertToInteractive(key) {\n",
              "        const element = document.querySelector('#df-29b7a9f2-6310-4364-b2d8-46ec1084b11b');\n",
              "        const dataTable =\n",
              "          await google.colab.kernel.invokeFunction('convertToInteractive',\n",
              "                                                    [key], {});\n",
              "        if (!dataTable) return;\n",
              "\n",
              "        const docLinkHtml = 'Like what you see? Visit the ' +\n",
              "          '<a target=\"_blank\" href=https://colab.research.google.com/notebooks/data_table.ipynb>data table notebook</a>'\n",
              "          + ' to learn more about interactive tables.';\n",
              "        element.innerHTML = '';\n",
              "        dataTable['output_type'] = 'display_data';\n",
              "        await google.colab.output.renderOutput(dataTable, element);\n",
              "        const docLink = document.createElement('div');\n",
              "        docLink.innerHTML = docLinkHtml;\n",
              "        element.appendChild(docLink);\n",
              "      }\n",
              "    </script>\n",
              "  </div>\n",
              "\n",
              "\n",
              "    <div id=\"df-469d18de-168e-461a-bcf9-b30f0dfa286b\">\n",
              "      <button class=\"colab-df-quickchart\" onclick=\"quickchart('df-469d18de-168e-461a-bcf9-b30f0dfa286b')\"\n",
              "                title=\"Suggest charts\"\n",
              "                style=\"display:none;\">\n",
              "\n",
              "<svg xmlns=\"http://www.w3.org/2000/svg\" height=\"24px\"viewBox=\"0 0 24 24\"\n",
              "     width=\"24px\">\n",
              "    <g>\n",
              "        <path d=\"M19 3H5c-1.1 0-2 .9-2 2v14c0 1.1.9 2 2 2h14c1.1 0 2-.9 2-2V5c0-1.1-.9-2-2-2zM9 17H7v-7h2v7zm4 0h-2V7h2v10zm4 0h-2v-4h2v4z\"/>\n",
              "    </g>\n",
              "</svg>\n",
              "      </button>\n",
              "\n",
              "<style>\n",
              "  .colab-df-quickchart {\n",
              "      --bg-color: #E8F0FE;\n",
              "      --fill-color: #1967D2;\n",
              "      --hover-bg-color: #E2EBFA;\n",
              "      --hover-fill-color: #174EA6;\n",
              "      --disabled-fill-color: #AAA;\n",
              "      --disabled-bg-color: #DDD;\n",
              "  }\n",
              "\n",
              "  [theme=dark] .colab-df-quickchart {\n",
              "      --bg-color: #3B4455;\n",
              "      --fill-color: #D2E3FC;\n",
              "      --hover-bg-color: #434B5C;\n",
              "      --hover-fill-color: #FFFFFF;\n",
              "      --disabled-bg-color: #3B4455;\n",
              "      --disabled-fill-color: #666;\n",
              "  }\n",
              "\n",
              "  .colab-df-quickchart {\n",
              "    background-color: var(--bg-color);\n",
              "    border: none;\n",
              "    border-radius: 50%;\n",
              "    cursor: pointer;\n",
              "    display: none;\n",
              "    fill: var(--fill-color);\n",
              "    height: 32px;\n",
              "    padding: 0;\n",
              "    width: 32px;\n",
              "  }\n",
              "\n",
              "  .colab-df-quickchart:hover {\n",
              "    background-color: var(--hover-bg-color);\n",
              "    box-shadow: 0 1px 2px rgba(60, 64, 67, 0.3), 0 1px 3px 1px rgba(60, 64, 67, 0.15);\n",
              "    fill: var(--button-hover-fill-color);\n",
              "  }\n",
              "\n",
              "  .colab-df-quickchart-complete:disabled,\n",
              "  .colab-df-quickchart-complete:disabled:hover {\n",
              "    background-color: var(--disabled-bg-color);\n",
              "    fill: var(--disabled-fill-color);\n",
              "    box-shadow: none;\n",
              "  }\n",
              "\n",
              "  .colab-df-spinner {\n",
              "    border: 2px solid var(--fill-color);\n",
              "    border-color: transparent;\n",
              "    border-bottom-color: var(--fill-color);\n",
              "    animation:\n",
              "      spin 1s steps(1) infinite;\n",
              "  }\n",
              "\n",
              "  @keyframes spin {\n",
              "    0% {\n",
              "      border-color: transparent;\n",
              "      border-bottom-color: var(--fill-color);\n",
              "      border-left-color: var(--fill-color);\n",
              "    }\n",
              "    20% {\n",
              "      border-color: transparent;\n",
              "      border-left-color: var(--fill-color);\n",
              "      border-top-color: var(--fill-color);\n",
              "    }\n",
              "    30% {\n",
              "      border-color: transparent;\n",
              "      border-left-color: var(--fill-color);\n",
              "      border-top-color: var(--fill-color);\n",
              "      border-right-color: var(--fill-color);\n",
              "    }\n",
              "    40% {\n",
              "      border-color: transparent;\n",
              "      border-right-color: var(--fill-color);\n",
              "      border-top-color: var(--fill-color);\n",
              "    }\n",
              "    60% {\n",
              "      border-color: transparent;\n",
              "      border-right-color: var(--fill-color);\n",
              "    }\n",
              "    80% {\n",
              "      border-color: transparent;\n",
              "      border-right-color: var(--fill-color);\n",
              "      border-bottom-color: var(--fill-color);\n",
              "    }\n",
              "    90% {\n",
              "      border-color: transparent;\n",
              "      border-bottom-color: var(--fill-color);\n",
              "    }\n",
              "  }\n",
              "</style>\n",
              "\n",
              "      <script>\n",
              "        async function quickchart(key) {\n",
              "          const quickchartButtonEl =\n",
              "            document.querySelector('#' + key + ' button');\n",
              "          quickchartButtonEl.disabled = true;  // To prevent multiple clicks.\n",
              "          quickchartButtonEl.classList.add('colab-df-spinner');\n",
              "          try {\n",
              "            const charts = await google.colab.kernel.invokeFunction(\n",
              "                'suggestCharts', [key], {});\n",
              "          } catch (error) {\n",
              "            console.error('Error during call to suggestCharts:', error);\n",
              "          }\n",
              "          quickchartButtonEl.classList.remove('colab-df-spinner');\n",
              "          quickchartButtonEl.classList.add('colab-df-quickchart-complete');\n",
              "        }\n",
              "        (() => {\n",
              "          let quickchartButtonEl =\n",
              "            document.querySelector('#df-469d18de-168e-461a-bcf9-b30f0dfa286b button');\n",
              "          quickchartButtonEl.style.display =\n",
              "            google.colab.kernel.accessAllowed ? 'block' : 'none';\n",
              "        })();\n",
              "      </script>\n",
              "    </div>\n",
              "\n",
              "  <div id=\"id_ccb8cdf1-ad6d-4ff0-a20a-0b52b0a87a85\">\n",
              "    <style>\n",
              "      .colab-df-generate {\n",
              "        background-color: #E8F0FE;\n",
              "        border: none;\n",
              "        border-radius: 50%;\n",
              "        cursor: pointer;\n",
              "        display: none;\n",
              "        fill: #1967D2;\n",
              "        height: 32px;\n",
              "        padding: 0 0 0 0;\n",
              "        width: 32px;\n",
              "      }\n",
              "\n",
              "      .colab-df-generate:hover {\n",
              "        background-color: #E2EBFA;\n",
              "        box-shadow: 0px 1px 2px rgba(60, 64, 67, 0.3), 0px 1px 3px 1px rgba(60, 64, 67, 0.15);\n",
              "        fill: #174EA6;\n",
              "      }\n",
              "\n",
              "      [theme=dark] .colab-df-generate {\n",
              "        background-color: #3B4455;\n",
              "        fill: #D2E3FC;\n",
              "      }\n",
              "\n",
              "      [theme=dark] .colab-df-generate:hover {\n",
              "        background-color: #434B5C;\n",
              "        box-shadow: 0px 1px 3px 1px rgba(0, 0, 0, 0.15);\n",
              "        filter: drop-shadow(0px 1px 2px rgba(0, 0, 0, 0.3));\n",
              "        fill: #FFFFFF;\n",
              "      }\n",
              "    </style>\n",
              "    <button class=\"colab-df-generate\" onclick=\"generateWithVariable('ser')\"\n",
              "            title=\"Generate code using this dataframe.\"\n",
              "            style=\"display:none;\">\n",
              "\n",
              "  <svg xmlns=\"http://www.w3.org/2000/svg\" height=\"24px\"viewBox=\"0 0 24 24\"\n",
              "       width=\"24px\">\n",
              "    <path d=\"M7,19H8.4L18.45,9,17,7.55,7,17.6ZM5,21V16.75L18.45,3.32a2,2,0,0,1,2.83,0l1.4,1.43a1.91,1.91,0,0,1,.58,1.4,1.91,1.91,0,0,1-.58,1.4L9.25,21ZM18.45,9,17,7.55Zm-12,3A5.31,5.31,0,0,0,4.9,8.1,5.31,5.31,0,0,0,1,6.5,5.31,5.31,0,0,0,4.9,4.9,5.31,5.31,0,0,0,6.5,1,5.31,5.31,0,0,0,8.1,4.9,5.31,5.31,0,0,0,12,6.5,5.46,5.46,0,0,0,6.5,12Z\"/>\n",
              "  </svg>\n",
              "    </button>\n",
              "    <script>\n",
              "      (() => {\n",
              "      const buttonEl =\n",
              "        document.querySelector('#id_ccb8cdf1-ad6d-4ff0-a20a-0b52b0a87a85 button.colab-df-generate');\n",
              "      buttonEl.style.display =\n",
              "        google.colab.kernel.accessAllowed ? 'block' : 'none';\n",
              "\n",
              "      buttonEl.onclick = () => {\n",
              "        google.colab.notebook.generateWithVariable('ser');\n",
              "      }\n",
              "      })();\n",
              "    </script>\n",
              "  </div>\n",
              "\n",
              "    </div>\n",
              "  </div>\n"
            ],
            "application/vnd.google.colaboratory.intrinsic+json": {
              "type": "dataframe",
              "variable_name": "ser",
              "summary": "{\n  \"name\": \"ser\",\n  \"rows\": 4,\n  \"fields\": [\n    {\n      \"column\": \"Name\",\n      \"properties\": {\n        \"dtype\": \"string\",\n        \"num_unique_values\": 4,\n        \"samples\": [\n          \"Prasad\",\n          \"Hansma\",\n          \"Ruskshan\"\n        ],\n        \"semantic_type\": \"\",\n        \"description\": \"\"\n      }\n    },\n    {\n      \"column\": \"Age\",\n      \"properties\": {\n        \"dtype\": \"number\",\n        \"std\": 0,\n        \"min\": 24,\n        \"max\": 26,\n        \"num_unique_values\": 3,\n        \"samples\": [\n          25,\n          26,\n          24\n        ],\n        \"semantic_type\": \"\",\n        \"description\": \"\"\n      }\n    },\n    {\n      \"column\": \"Marks\",\n      \"properties\": {\n        \"dtype\": \"number\",\n        \"std\": 8,\n        \"min\": 70,\n        \"max\": 90,\n        \"num_unique_values\": 4,\n        \"samples\": [\n          90,\n          80,\n          85\n        ],\n        \"semantic_type\": \"\",\n        \"description\": \"\"\n      }\n    }\n  ]\n}"
            }
          },
          "metadata": {},
          "execution_count": 10
        }
      ]
    },
    {
      "cell_type": "code",
      "source": [
        "df.values"
      ],
      "metadata": {
        "colab": {
          "base_uri": "https://localhost:8080/"
        },
        "id": "jhdTJ1qpgqR5",
        "outputId": "7df02099-8ce0-462e-a334-7398a08f02c0"
      },
      "execution_count": 11,
      "outputs": [
        {
          "output_type": "execute_result",
          "data": {
            "text/plain": [
              "array([['Rahul', 25, 85],\n",
              "       ['Prashanthi', 25, 90],\n",
              "       ['Gourav', 26, 70],\n",
              "       ['Hasini', 24, 80]], dtype=object)"
            ]
          },
          "metadata": {},
          "execution_count": 11
        }
      ]
    },
    {
      "cell_type": "markdown",
      "source": [
        "You are given three Series representing student data:\n",
        "\n",
        "Names of students\n",
        "\n",
        "Their ages\n",
        "\n",
        "Their marks\n",
        "\n",
        "These series are combined into a DataFrame as shown earlier.\n",
        "\n",
        "🎯 Your Task:\n",
        "Using the existing DataFrame, perform the following operations:\n",
        "\n",
        "✅ Print the details (name, age, marks) of the student who scored the highest marks.\n",
        "\n",
        "✅ Add a new student \"Tharushi\" with age 23 and marks 88 using the index \"Th\".\n",
        "\n",
        "✅ Display the details of students who are 25 years old or older.\n",
        "\n",
        "✅ Increase the marks of students below 80 by 10 bonus points.\n",
        "\n",
        "✅ Calculate and print the average marks of all students after the bonus."
      ],
      "metadata": {
        "id": "ZRvnsyuPkqKC"
      }
    },
    {
      "cell_type": "code",
      "source": [
        "names = pd.Series({'Ru':'Ruskshan','Pr':'Prasad','Gi':'Gihat','Ha':'Hansma'})\n",
        "ages = pd.Series({'Ru':25,'Pr':25,'Gi':26,'Ha':24})\n",
        "marks = pd.Series({'Ru':85,'Pr':90,'Gi':70,'Ha':80})\n",
        "\n",
        "df = pd.DataFrame({'Name': names, 'Age': ages, 'Marks': marks})\n",
        "print(df[df['Marks'] == df['Marks'].max()])\n",
        "df.loc['Th'] = ['Tharushi', 23, 88]\n",
        "print(df[df['Age'] >= 25])\n",
        "df.loc[df['Marks'] < 80, 'Marks'] += 10\n",
        "print(df['Marks'].mean())"
      ],
      "metadata": {
        "colab": {
          "base_uri": "https://localhost:8080/"
        },
        "id": "K9drlbo_kYQf",
        "outputId": "aeac16d3-b54a-4396-c0c1-fdc3b059fe28"
      },
      "execution_count": 34,
      "outputs": [
        {
          "output_type": "stream",
          "name": "stdout",
          "text": [
            "      Name  Age  Marks\n",
            "Pr  Prasad   25     90\n",
            "        Name  Age  Marks\n",
            "Ru  Ruskshan   25     85\n",
            "Pr    Prasad   25     90\n",
            "Gi     Gihat   26     70\n",
            "84.6\n"
          ]
        }
      ]
    },
    {
      "cell_type": "markdown",
      "source": [
        "using dictionary of series"
      ],
      "metadata": {
        "id": "2A6DCEFPg0OS"
      }
    },
    {
      "cell_type": "code",
      "source": [
        "ser1=pd.Series(['Roshan','Prashanthi','Gourav','Hasini'],index=['Ro','Pr','Go','Ha'])\n",
        "ser2=pd.Series([25,25,26,24],index=['Ro','Pr','Go','Ha'])\n",
        "ser3=pd.Series([80,90,70,60],index=['Ro','Pr','Go','Ha'])\n",
        "a_dict={'Name':ser1,\n",
        "        'Age':ser2,\n",
        "        'Marks':ser3}\n",
        "df=pd.DataFrame(a_dict)\n",
        "df"
      ],
      "metadata": {
        "colab": {
          "base_uri": "https://localhost:8080/",
          "height": 174
        },
        "id": "zD50YcU8guQv",
        "outputId": "6e66b16a-55ed-47c6-c6c6-7de5d8820e00"
      },
      "execution_count": 33,
      "outputs": [
        {
          "output_type": "execute_result",
          "data": {
            "text/plain": [
              "          Name  Age  Marks\n",
              "Ro      Roshan   25     80\n",
              "Pr  Prashanthi   25     90\n",
              "Go      Gourav   26     70\n",
              "Ha      Hasini   24     60"
            ],
            "text/html": [
              "\n",
              "  <div id=\"df-8bfdfb5c-3908-4b2f-b7a5-b3b24e95a74e\" class=\"colab-df-container\">\n",
              "    <div>\n",
              "<style scoped>\n",
              "    .dataframe tbody tr th:only-of-type {\n",
              "        vertical-align: middle;\n",
              "    }\n",
              "\n",
              "    .dataframe tbody tr th {\n",
              "        vertical-align: top;\n",
              "    }\n",
              "\n",
              "    .dataframe thead th {\n",
              "        text-align: right;\n",
              "    }\n",
              "</style>\n",
              "<table border=\"1\" class=\"dataframe\">\n",
              "  <thead>\n",
              "    <tr style=\"text-align: right;\">\n",
              "      <th></th>\n",
              "      <th>Name</th>\n",
              "      <th>Age</th>\n",
              "      <th>Marks</th>\n",
              "    </tr>\n",
              "  </thead>\n",
              "  <tbody>\n",
              "    <tr>\n",
              "      <th>Ro</th>\n",
              "      <td>Roshan</td>\n",
              "      <td>25</td>\n",
              "      <td>80</td>\n",
              "    </tr>\n",
              "    <tr>\n",
              "      <th>Pr</th>\n",
              "      <td>Prashanthi</td>\n",
              "      <td>25</td>\n",
              "      <td>90</td>\n",
              "    </tr>\n",
              "    <tr>\n",
              "      <th>Go</th>\n",
              "      <td>Gourav</td>\n",
              "      <td>26</td>\n",
              "      <td>70</td>\n",
              "    </tr>\n",
              "    <tr>\n",
              "      <th>Ha</th>\n",
              "      <td>Hasini</td>\n",
              "      <td>24</td>\n",
              "      <td>60</td>\n",
              "    </tr>\n",
              "  </tbody>\n",
              "</table>\n",
              "</div>\n",
              "    <div class=\"colab-df-buttons\">\n",
              "\n",
              "  <div class=\"colab-df-container\">\n",
              "    <button class=\"colab-df-convert\" onclick=\"convertToInteractive('df-8bfdfb5c-3908-4b2f-b7a5-b3b24e95a74e')\"\n",
              "            title=\"Convert this dataframe to an interactive table.\"\n",
              "            style=\"display:none;\">\n",
              "\n",
              "  <svg xmlns=\"http://www.w3.org/2000/svg\" height=\"24px\" viewBox=\"0 -960 960 960\">\n",
              "    <path d=\"M120-120v-720h720v720H120Zm60-500h600v-160H180v160Zm220 220h160v-160H400v160Zm0 220h160v-160H400v160ZM180-400h160v-160H180v160Zm440 0h160v-160H620v160ZM180-180h160v-160H180v160Zm440 0h160v-160H620v160Z\"/>\n",
              "  </svg>\n",
              "    </button>\n",
              "\n",
              "  <style>\n",
              "    .colab-df-container {\n",
              "      display:flex;\n",
              "      gap: 12px;\n",
              "    }\n",
              "\n",
              "    .colab-df-convert {\n",
              "      background-color: #E8F0FE;\n",
              "      border: none;\n",
              "      border-radius: 50%;\n",
              "      cursor: pointer;\n",
              "      display: none;\n",
              "      fill: #1967D2;\n",
              "      height: 32px;\n",
              "      padding: 0 0 0 0;\n",
              "      width: 32px;\n",
              "    }\n",
              "\n",
              "    .colab-df-convert:hover {\n",
              "      background-color: #E2EBFA;\n",
              "      box-shadow: 0px 1px 2px rgba(60, 64, 67, 0.3), 0px 1px 3px 1px rgba(60, 64, 67, 0.15);\n",
              "      fill: #174EA6;\n",
              "    }\n",
              "\n",
              "    .colab-df-buttons div {\n",
              "      margin-bottom: 4px;\n",
              "    }\n",
              "\n",
              "    [theme=dark] .colab-df-convert {\n",
              "      background-color: #3B4455;\n",
              "      fill: #D2E3FC;\n",
              "    }\n",
              "\n",
              "    [theme=dark] .colab-df-convert:hover {\n",
              "      background-color: #434B5C;\n",
              "      box-shadow: 0px 1px 3px 1px rgba(0, 0, 0, 0.15);\n",
              "      filter: drop-shadow(0px 1px 2px rgba(0, 0, 0, 0.3));\n",
              "      fill: #FFFFFF;\n",
              "    }\n",
              "  </style>\n",
              "\n",
              "    <script>\n",
              "      const buttonEl =\n",
              "        document.querySelector('#df-8bfdfb5c-3908-4b2f-b7a5-b3b24e95a74e button.colab-df-convert');\n",
              "      buttonEl.style.display =\n",
              "        google.colab.kernel.accessAllowed ? 'block' : 'none';\n",
              "\n",
              "      async function convertToInteractive(key) {\n",
              "        const element = document.querySelector('#df-8bfdfb5c-3908-4b2f-b7a5-b3b24e95a74e');\n",
              "        const dataTable =\n",
              "          await google.colab.kernel.invokeFunction('convertToInteractive',\n",
              "                                                    [key], {});\n",
              "        if (!dataTable) return;\n",
              "\n",
              "        const docLinkHtml = 'Like what you see? Visit the ' +\n",
              "          '<a target=\"_blank\" href=https://colab.research.google.com/notebooks/data_table.ipynb>data table notebook</a>'\n",
              "          + ' to learn more about interactive tables.';\n",
              "        element.innerHTML = '';\n",
              "        dataTable['output_type'] = 'display_data';\n",
              "        await google.colab.output.renderOutput(dataTable, element);\n",
              "        const docLink = document.createElement('div');\n",
              "        docLink.innerHTML = docLinkHtml;\n",
              "        element.appendChild(docLink);\n",
              "      }\n",
              "    </script>\n",
              "  </div>\n",
              "\n",
              "\n",
              "    <div id=\"df-58ee4217-5c41-4352-9c70-dc598eb74cc5\">\n",
              "      <button class=\"colab-df-quickchart\" onclick=\"quickchart('df-58ee4217-5c41-4352-9c70-dc598eb74cc5')\"\n",
              "                title=\"Suggest charts\"\n",
              "                style=\"display:none;\">\n",
              "\n",
              "<svg xmlns=\"http://www.w3.org/2000/svg\" height=\"24px\"viewBox=\"0 0 24 24\"\n",
              "     width=\"24px\">\n",
              "    <g>\n",
              "        <path d=\"M19 3H5c-1.1 0-2 .9-2 2v14c0 1.1.9 2 2 2h14c1.1 0 2-.9 2-2V5c0-1.1-.9-2-2-2zM9 17H7v-7h2v7zm4 0h-2V7h2v10zm4 0h-2v-4h2v4z\"/>\n",
              "    </g>\n",
              "</svg>\n",
              "      </button>\n",
              "\n",
              "<style>\n",
              "  .colab-df-quickchart {\n",
              "      --bg-color: #E8F0FE;\n",
              "      --fill-color: #1967D2;\n",
              "      --hover-bg-color: #E2EBFA;\n",
              "      --hover-fill-color: #174EA6;\n",
              "      --disabled-fill-color: #AAA;\n",
              "      --disabled-bg-color: #DDD;\n",
              "  }\n",
              "\n",
              "  [theme=dark] .colab-df-quickchart {\n",
              "      --bg-color: #3B4455;\n",
              "      --fill-color: #D2E3FC;\n",
              "      --hover-bg-color: #434B5C;\n",
              "      --hover-fill-color: #FFFFFF;\n",
              "      --disabled-bg-color: #3B4455;\n",
              "      --disabled-fill-color: #666;\n",
              "  }\n",
              "\n",
              "  .colab-df-quickchart {\n",
              "    background-color: var(--bg-color);\n",
              "    border: none;\n",
              "    border-radius: 50%;\n",
              "    cursor: pointer;\n",
              "    display: none;\n",
              "    fill: var(--fill-color);\n",
              "    height: 32px;\n",
              "    padding: 0;\n",
              "    width: 32px;\n",
              "  }\n",
              "\n",
              "  .colab-df-quickchart:hover {\n",
              "    background-color: var(--hover-bg-color);\n",
              "    box-shadow: 0 1px 2px rgba(60, 64, 67, 0.3), 0 1px 3px 1px rgba(60, 64, 67, 0.15);\n",
              "    fill: var(--button-hover-fill-color);\n",
              "  }\n",
              "\n",
              "  .colab-df-quickchart-complete:disabled,\n",
              "  .colab-df-quickchart-complete:disabled:hover {\n",
              "    background-color: var(--disabled-bg-color);\n",
              "    fill: var(--disabled-fill-color);\n",
              "    box-shadow: none;\n",
              "  }\n",
              "\n",
              "  .colab-df-spinner {\n",
              "    border: 2px solid var(--fill-color);\n",
              "    border-color: transparent;\n",
              "    border-bottom-color: var(--fill-color);\n",
              "    animation:\n",
              "      spin 1s steps(1) infinite;\n",
              "  }\n",
              "\n",
              "  @keyframes spin {\n",
              "    0% {\n",
              "      border-color: transparent;\n",
              "      border-bottom-color: var(--fill-color);\n",
              "      border-left-color: var(--fill-color);\n",
              "    }\n",
              "    20% {\n",
              "      border-color: transparent;\n",
              "      border-left-color: var(--fill-color);\n",
              "      border-top-color: var(--fill-color);\n",
              "    }\n",
              "    30% {\n",
              "      border-color: transparent;\n",
              "      border-left-color: var(--fill-color);\n",
              "      border-top-color: var(--fill-color);\n",
              "      border-right-color: var(--fill-color);\n",
              "    }\n",
              "    40% {\n",
              "      border-color: transparent;\n",
              "      border-right-color: var(--fill-color);\n",
              "      border-top-color: var(--fill-color);\n",
              "    }\n",
              "    60% {\n",
              "      border-color: transparent;\n",
              "      border-right-color: var(--fill-color);\n",
              "    }\n",
              "    80% {\n",
              "      border-color: transparent;\n",
              "      border-right-color: var(--fill-color);\n",
              "      border-bottom-color: var(--fill-color);\n",
              "    }\n",
              "    90% {\n",
              "      border-color: transparent;\n",
              "      border-bottom-color: var(--fill-color);\n",
              "    }\n",
              "  }\n",
              "</style>\n",
              "\n",
              "      <script>\n",
              "        async function quickchart(key) {\n",
              "          const quickchartButtonEl =\n",
              "            document.querySelector('#' + key + ' button');\n",
              "          quickchartButtonEl.disabled = true;  // To prevent multiple clicks.\n",
              "          quickchartButtonEl.classList.add('colab-df-spinner');\n",
              "          try {\n",
              "            const charts = await google.colab.kernel.invokeFunction(\n",
              "                'suggestCharts', [key], {});\n",
              "          } catch (error) {\n",
              "            console.error('Error during call to suggestCharts:', error);\n",
              "          }\n",
              "          quickchartButtonEl.classList.remove('colab-df-spinner');\n",
              "          quickchartButtonEl.classList.add('colab-df-quickchart-complete');\n",
              "        }\n",
              "        (() => {\n",
              "          let quickchartButtonEl =\n",
              "            document.querySelector('#df-58ee4217-5c41-4352-9c70-dc598eb74cc5 button');\n",
              "          quickchartButtonEl.style.display =\n",
              "            google.colab.kernel.accessAllowed ? 'block' : 'none';\n",
              "        })();\n",
              "      </script>\n",
              "    </div>\n",
              "\n",
              "  <div id=\"id_b3000d66-e261-46d5-896f-9eb71eccf7de\">\n",
              "    <style>\n",
              "      .colab-df-generate {\n",
              "        background-color: #E8F0FE;\n",
              "        border: none;\n",
              "        border-radius: 50%;\n",
              "        cursor: pointer;\n",
              "        display: none;\n",
              "        fill: #1967D2;\n",
              "        height: 32px;\n",
              "        padding: 0 0 0 0;\n",
              "        width: 32px;\n",
              "      }\n",
              "\n",
              "      .colab-df-generate:hover {\n",
              "        background-color: #E2EBFA;\n",
              "        box-shadow: 0px 1px 2px rgba(60, 64, 67, 0.3), 0px 1px 3px 1px rgba(60, 64, 67, 0.15);\n",
              "        fill: #174EA6;\n",
              "      }\n",
              "\n",
              "      [theme=dark] .colab-df-generate {\n",
              "        background-color: #3B4455;\n",
              "        fill: #D2E3FC;\n",
              "      }\n",
              "\n",
              "      [theme=dark] .colab-df-generate:hover {\n",
              "        background-color: #434B5C;\n",
              "        box-shadow: 0px 1px 3px 1px rgba(0, 0, 0, 0.15);\n",
              "        filter: drop-shadow(0px 1px 2px rgba(0, 0, 0, 0.3));\n",
              "        fill: #FFFFFF;\n",
              "      }\n",
              "    </style>\n",
              "    <button class=\"colab-df-generate\" onclick=\"generateWithVariable('df')\"\n",
              "            title=\"Generate code using this dataframe.\"\n",
              "            style=\"display:none;\">\n",
              "\n",
              "  <svg xmlns=\"http://www.w3.org/2000/svg\" height=\"24px\"viewBox=\"0 0 24 24\"\n",
              "       width=\"24px\">\n",
              "    <path d=\"M7,19H8.4L18.45,9,17,7.55,7,17.6ZM5,21V16.75L18.45,3.32a2,2,0,0,1,2.83,0l1.4,1.43a1.91,1.91,0,0,1,.58,1.4,1.91,1.91,0,0,1-.58,1.4L9.25,21ZM18.45,9,17,7.55Zm-12,3A5.31,5.31,0,0,0,4.9,8.1,5.31,5.31,0,0,0,1,6.5,5.31,5.31,0,0,0,4.9,4.9,5.31,5.31,0,0,0,6.5,1,5.31,5.31,0,0,0,8.1,4.9,5.31,5.31,0,0,0,12,6.5,5.46,5.46,0,0,0,6.5,12Z\"/>\n",
              "  </svg>\n",
              "    </button>\n",
              "    <script>\n",
              "      (() => {\n",
              "      const buttonEl =\n",
              "        document.querySelector('#id_b3000d66-e261-46d5-896f-9eb71eccf7de button.colab-df-generate');\n",
              "      buttonEl.style.display =\n",
              "        google.colab.kernel.accessAllowed ? 'block' : 'none';\n",
              "\n",
              "      buttonEl.onclick = () => {\n",
              "        google.colab.notebook.generateWithVariable('df');\n",
              "      }\n",
              "      })();\n",
              "    </script>\n",
              "  </div>\n",
              "\n",
              "    </div>\n",
              "  </div>\n"
            ],
            "application/vnd.google.colaboratory.intrinsic+json": {
              "type": "dataframe",
              "variable_name": "df",
              "summary": "{\n  \"name\": \"df\",\n  \"rows\": 4,\n  \"fields\": [\n    {\n      \"column\": \"Name\",\n      \"properties\": {\n        \"dtype\": \"string\",\n        \"num_unique_values\": 4,\n        \"samples\": [\n          \"Prashanthi\",\n          \"Hasini\",\n          \"Roshan\"\n        ],\n        \"semantic_type\": \"\",\n        \"description\": \"\"\n      }\n    },\n    {\n      \"column\": \"Age\",\n      \"properties\": {\n        \"dtype\": \"number\",\n        \"std\": 0,\n        \"min\": 24,\n        \"max\": 26,\n        \"num_unique_values\": 3,\n        \"samples\": [\n          25,\n          26,\n          24\n        ],\n        \"semantic_type\": \"\",\n        \"description\": \"\"\n      }\n    },\n    {\n      \"column\": \"Marks\",\n      \"properties\": {\n        \"dtype\": \"number\",\n        \"std\": 12,\n        \"min\": 60,\n        \"max\": 90,\n        \"num_unique_values\": 4,\n        \"samples\": [\n          90,\n          60,\n          80\n        ],\n        \"semantic_type\": \"\",\n        \"description\": \"\"\n      }\n    }\n  ]\n}"
            }
          },
          "metadata": {},
          "execution_count": 33
        }
      ]
    },
    {
      "cell_type": "markdown",
      "source": [
        "Data set Link: https://www.kaggle.com/datasets/vijayuv/onlineretail\n",
        "\n",
        "“E-Commerce Transaction Analytics” (Using Online Retail Dataset)\n",
        "🎯 Scenario / Story\n",
        "\n",
        "You are a data analyst at ShopWave, an e-commerce platform in the UK. ShopWave logs every transaction (order) made in their store. Each record has:\n",
        "\n",
        "Invoice number\n",
        "\n",
        "Stock code / product ID\n",
        "\n",
        "Description\n",
        "\n",
        "Quantity\n",
        "\n",
        "Invoice date\n",
        "\n",
        "Unit price\n",
        "\n",
        "Customer ID\n",
        "\n",
        "Country\n",
        "\n",
        "Your manager wants you to clean the data, fix inconsistencies, derive business metrics, and explore relationships. The cleaned data should enable deeper dashboards later.\n",
        "\n",
        "Tasks & Steps\n",
        "\n",
        "Below is a full pipeline of tasks that students should perform. Each task corresponds to one or more of the functions/techniques you already taught.\n",
        "\n",
        "Load & Inspect\n",
        "\n",
        "Read the CSV (e.g. OnlineRetail.csv)\n",
        "\n",
        "Display head(), tail(), info(), shape\n",
        "\n",
        "Check dtypes\n",
        "\n",
        "Missing Data Handling\n",
        "\n",
        "Use isnull().sum() to find missing values (e.g. some Description or Customer ID missing)\n",
        "\n",
        "Drop rows that have missing Customer ID (because you can’t tie to a customer)\n",
        "\n",
        "Fill missing Description or other columns using a placeholder (e.g. \"Unknown\")\n",
        "\n",
        "Date Parsing / Format Correction The InvoiceDate column might be string. Convert using pd.to_datetime(..., format='mixed')\n",
        "\n",
        "Drop records where parsing failed (if any) Detect & Fix Bad or Outlier\n",
        "\n",
        "Some transactions might have negative quantity (returns) — detect those and decide whether to treat as returns or drop Some unit prices might be zero or negative — fix/clean these (e.g. drop or adjust)\n",
        "\n",
        "Duplicates\n",
        "\n",
        "Use duplicated() to find duplicated invoice-item entries Drop"
      ],
      "metadata": {
        "id": "fmSGsNbahTqr"
      }
    },
    {
      "cell_type": "code",
      "source": [],
      "metadata": {
        "id": "EVXDip-kkWsk"
      },
      "execution_count": null,
      "outputs": []
    },
    {
      "cell_type": "code",
      "source": [
        "path = '/content/OnlineRetail.csv'\n",
        "df = pd.read_csv(path, on_bad_lines='skip')"
      ],
      "metadata": {
        "id": "Vk5L00kUhCFu"
      },
      "execution_count": 13,
      "outputs": []
    },
    {
      "cell_type": "code",
      "source": [
        "print(\"First 5 rows \",df.head())"
      ],
      "metadata": {
        "colab": {
          "base_uri": "https://localhost:8080/"
        },
        "id": "hTLZB9Rwilwv",
        "outputId": "07977c16-791a-422b-ed2a-4d1f52516841"
      },
      "execution_count": 14,
      "outputs": [
        {
          "output_type": "stream",
          "name": "stdout",
          "text": [
            "First 5 rows    InvoiceNo StockCode                          Description  Quantity  \\\n",
            "0    536365    85123A   WHITE HANGING HEART T-LIGHT HOLDER         6   \n",
            "1    536365     71053                  WHITE METAL LANTERN         6   \n",
            "2    536365    84406B       CREAM CUPID HEARTS COAT HANGER         8   \n",
            "3    536365    84029G  KNITTED UNION FLAG HOT WATER BOTTLE         6   \n",
            "4    536365    84029E       RED WOOLLY HOTTIE WHITE HEART.         6   \n",
            "\n",
            "      InvoiceDate  UnitPrice  CustomerID         Country  \n",
            "0  12/1/2010 8:26       2.55     17850.0  United Kingdom  \n",
            "1  12/1/2010 8:26       3.39     17850.0  United Kingdom  \n",
            "2  12/1/2010 8:26       2.75     17850.0  United Kingdom  \n",
            "3  12/1/2010 8:26       3.39     17850.0  United Kingdom  \n",
            "4  12/1/2010 8:26       3.39     17850.0  United Kingdom  \n"
          ]
        }
      ]
    },
    {
      "cell_type": "code",
      "source": [
        "print(\"Last 5 rows \",df.tail())"
      ],
      "metadata": {
        "colab": {
          "base_uri": "https://localhost:8080/"
        },
        "id": "ZlaxHCHSirLu",
        "outputId": "301e3d2a-706f-4a64-e896-8503ff26b191"
      },
      "execution_count": 15,
      "outputs": [
        {
          "output_type": "stream",
          "name": "stdout",
          "text": [
            "Last 5 rows        InvoiceNo StockCode               Description  Quantity  \\\n",
            "37304    539456    85135C  RED DRAGONFLY HELICOPTER         2   \n",
            "37305    539456     22095      LADS ONLY TISSUE BOX         1   \n",
            "37306    539456   15056BL   EDWARDIAN PARASOL BLACK         1   \n",
            "37307    539456     20679     EDWARDIAN PARASOL RED         1   \n",
            "37308    539456    85136A   YELLOW SHARK HELICOPTER         1   \n",
            "\n",
            "            InvoiceDate  UnitPrice  CustomerID         Country  \n",
            "37304  12/17/2010 17:23       7.95     16885.0  United Kingdom  \n",
            "37305  12/17/2010 17:23       1.25     16885.0  United Kingdom  \n",
            "37306  12/17/2010 17:23       5.95     16885.0  United Kingdom  \n",
            "37307  12/17/2010 17:23       5.95     16885.0  United Kingdom  \n",
            "37308          12/17/20        NaN         NaN             NaN  \n"
          ]
        }
      ]
    },
    {
      "cell_type": "code",
      "source": [
        "df.info()"
      ],
      "metadata": {
        "colab": {
          "base_uri": "https://localhost:8080/"
        },
        "id": "b7qTBxPKiyhA",
        "outputId": "e23d66a3-b079-41db-dcf1-0a1a63e86f9a"
      },
      "execution_count": 16,
      "outputs": [
        {
          "output_type": "stream",
          "name": "stdout",
          "text": [
            "<class 'pandas.core.frame.DataFrame'>\n",
            "RangeIndex: 37309 entries, 0 to 37308\n",
            "Data columns (total 8 columns):\n",
            " #   Column       Non-Null Count  Dtype  \n",
            "---  ------       --------------  -----  \n",
            " 0   InvoiceNo    37309 non-null  object \n",
            " 1   StockCode    37309 non-null  object \n",
            " 2   Description  37192 non-null  object \n",
            " 3   Quantity     37309 non-null  int64  \n",
            " 4   InvoiceDate  37309 non-null  object \n",
            " 5   UnitPrice    37308 non-null  float64\n",
            " 6   CustomerID   24429 non-null  float64\n",
            " 7   Country      37308 non-null  object \n",
            "dtypes: float64(2), int64(1), object(5)\n",
            "memory usage: 2.3+ MB\n"
          ]
        }
      ]
    },
    {
      "cell_type": "code",
      "source": [
        "df.shape"
      ],
      "metadata": {
        "colab": {
          "base_uri": "https://localhost:8080/"
        },
        "id": "a4j19qQli7OH",
        "outputId": "6221c6b0-037a-4da7-de20-594792e3e517"
      },
      "execution_count": 17,
      "outputs": [
        {
          "output_type": "execute_result",
          "data": {
            "text/plain": [
              "(37309, 8)"
            ]
          },
          "metadata": {},
          "execution_count": 17
        }
      ]
    },
    {
      "cell_type": "code",
      "source": [
        "df.isnull().sum()"
      ],
      "metadata": {
        "colab": {
          "base_uri": "https://localhost:8080/",
          "height": 335
        },
        "id": "9gYZvex9jALL",
        "outputId": "2ceb7e40-c7b7-4cbb-f906-c43413839030"
      },
      "execution_count": 18,
      "outputs": [
        {
          "output_type": "execute_result",
          "data": {
            "text/plain": [
              "InvoiceNo          0\n",
              "StockCode          0\n",
              "Description      117\n",
              "Quantity           0\n",
              "InvoiceDate        0\n",
              "UnitPrice          1\n",
              "CustomerID     12880\n",
              "Country            1\n",
              "dtype: int64"
            ],
            "text/html": [
              "<div>\n",
              "<style scoped>\n",
              "    .dataframe tbody tr th:only-of-type {\n",
              "        vertical-align: middle;\n",
              "    }\n",
              "\n",
              "    .dataframe tbody tr th {\n",
              "        vertical-align: top;\n",
              "    }\n",
              "\n",
              "    .dataframe thead th {\n",
              "        text-align: right;\n",
              "    }\n",
              "</style>\n",
              "<table border=\"1\" class=\"dataframe\">\n",
              "  <thead>\n",
              "    <tr style=\"text-align: right;\">\n",
              "      <th></th>\n",
              "      <th>0</th>\n",
              "    </tr>\n",
              "  </thead>\n",
              "  <tbody>\n",
              "    <tr>\n",
              "      <th>InvoiceNo</th>\n",
              "      <td>0</td>\n",
              "    </tr>\n",
              "    <tr>\n",
              "      <th>StockCode</th>\n",
              "      <td>0</td>\n",
              "    </tr>\n",
              "    <tr>\n",
              "      <th>Description</th>\n",
              "      <td>117</td>\n",
              "    </tr>\n",
              "    <tr>\n",
              "      <th>Quantity</th>\n",
              "      <td>0</td>\n",
              "    </tr>\n",
              "    <tr>\n",
              "      <th>InvoiceDate</th>\n",
              "      <td>0</td>\n",
              "    </tr>\n",
              "    <tr>\n",
              "      <th>UnitPrice</th>\n",
              "      <td>1</td>\n",
              "    </tr>\n",
              "    <tr>\n",
              "      <th>CustomerID</th>\n",
              "      <td>12880</td>\n",
              "    </tr>\n",
              "    <tr>\n",
              "      <th>Country</th>\n",
              "      <td>1</td>\n",
              "    </tr>\n",
              "  </tbody>\n",
              "</table>\n",
              "</div><br><label><b>dtype:</b> int64</label>"
            ]
          },
          "metadata": {},
          "execution_count": 18
        }
      ]
    },
    {
      "cell_type": "code",
      "source": [
        "df=df.dropna(subset=['CustomerID'])\n",
        "df['Description'] = df['Description'].fillna('Unknown')\n",
        "print(df.isnull().sum())"
      ],
      "metadata": {
        "colab": {
          "base_uri": "https://localhost:8080/"
        },
        "id": "jv9o9-AdjFM6",
        "outputId": "0c5750a1-e474-42ca-8ed7-4fc8052c3898"
      },
      "execution_count": 19,
      "outputs": [
        {
          "output_type": "stream",
          "name": "stdout",
          "text": [
            "InvoiceNo      0\n",
            "StockCode      0\n",
            "Description    0\n",
            "Quantity       0\n",
            "InvoiceDate    0\n",
            "UnitPrice      0\n",
            "CustomerID     0\n",
            "Country        0\n",
            "dtype: int64\n"
          ]
        }
      ]
    },
    {
      "cell_type": "code",
      "source": [
        "df['InvoiceDate']=pd.to_datetime(df['InvoiceDate'],errors='coerce')\n",
        "df=df.dropna(subset=['InvoiceDate'])\n",
        "print(df['InvoiceDate'].dtype)"
      ],
      "metadata": {
        "colab": {
          "base_uri": "https://localhost:8080/"
        },
        "id": "Ol9QRamYjKUs",
        "outputId": "73a61fb3-8af2-4175-ba33-f09e55418734"
      },
      "execution_count": 20,
      "outputs": [
        {
          "output_type": "stream",
          "name": "stdout",
          "text": [
            "datetime64[ns]\n"
          ]
        }
      ]
    },
    {
      "cell_type": "code",
      "source": [
        "negative_qty = df[df['Quantity'] < 0]\n",
        "print(negative_qty.head())\n",
        "df = df[df['UnitPrice'] > 0]"
      ],
      "metadata": {
        "colab": {
          "base_uri": "https://localhost:8080/"
        },
        "id": "RT8A-bFljObO",
        "outputId": "2538d1dd-ea4c-40ee-ac7e-dfa8710e6dcc"
      },
      "execution_count": 21,
      "outputs": [
        {
          "output_type": "stream",
          "name": "stdout",
          "text": [
            "    InvoiceNo StockCode                       Description  Quantity  \\\n",
            "141   C536379         D                          Discount        -1   \n",
            "154   C536383    35004C   SET OF 3 COLOURED  FLYING DUCKS        -1   \n",
            "235   C536391     22556    PLASTERS IN TIN CIRCUS PARADE        -12   \n",
            "236   C536391     21984  PACK OF 12 PINK PAISLEY TISSUES        -24   \n",
            "237   C536391     21983  PACK OF 12 BLUE PAISLEY TISSUES        -24   \n",
            "\n",
            "            InvoiceDate  UnitPrice  CustomerID         Country  \n",
            "141 2010-12-01 09:41:00      27.50     14527.0  United Kingdom  \n",
            "154 2010-12-01 09:49:00       4.65     15311.0  United Kingdom  \n",
            "235 2010-12-01 10:24:00       1.65     17548.0  United Kingdom  \n",
            "236 2010-12-01 10:24:00       0.29     17548.0  United Kingdom  \n",
            "237 2010-12-01 10:24:00       0.29     17548.0  United Kingdom  \n"
          ]
        }
      ]
    },
    {
      "cell_type": "code",
      "source": [
        "duplicates = df.duplicated(subset=['InvoiceNo', 'StockCode'])\n",
        "print(\"Number of duplicates:\", duplicates.sum())\n",
        "\n",
        "df = df.drop_duplicates(subset=['InvoiceNo', 'StockCode'])"
      ],
      "metadata": {
        "colab": {
          "base_uri": "https://localhost:8080/"
        },
        "id": "wkjW72C4jRy_",
        "outputId": "a9de8248-c353-4291-f94c-c41f054f29ae"
      },
      "execution_count": 22,
      "outputs": [
        {
          "output_type": "stream",
          "name": "stdout",
          "text": [
            "Number of duplicates: 830\n"
          ]
        }
      ]
    },
    {
      "cell_type": "code",
      "source": [
        "df['Revenue'] = df['Quantity'] * df['UnitPrice']"
      ],
      "metadata": {
        "id": "22G7jqazjWKl"
      },
      "execution_count": 23,
      "outputs": []
    },
    {
      "cell_type": "code",
      "source": [
        "# Top 10 products by revenue\n",
        "top_products = df.groupby('Description')['Revenue'].sum().sort_values(ascending=False).head(10)\n",
        "print(top_products)\n",
        "\n",
        "# Top 10 customers by revenue\n",
        "top_customers = df.groupby('CustomerID')['Revenue'].sum().sort_values(ascending=False).head(10)\n",
        "print(top_customers)\n",
        "\n",
        "# Revenue by country\n",
        "revenue_country = df.groupby('Country')['Revenue'].sum().sort_values(ascending=False)\n",
        "print(revenue_country.head(10))"
      ],
      "metadata": {
        "colab": {
          "base_uri": "https://localhost:8080/"
        },
        "id": "b73WqEyCjazL",
        "outputId": "b80bcca2-04af-4d3c-d7a9-a5f92752fce3"
      },
      "execution_count": 24,
      "outputs": [
        {
          "output_type": "stream",
          "name": "stdout",
          "text": [
            "Description\n",
            "REGENCY CAKESTAND 3 TIER              15743.40\n",
            "WHITE HANGING HEART T-LIGHT HOLDER     7647.45\n",
            "VINTAGE UNION JACK MEMOBOARD           6898.69\n",
            "WOOD BLACK BOARD ANT WHITE FINISH      6556.23\n",
            "BLACK RECORD COVER FRAME               6011.10\n",
            "CHILLI LIGHTS                          5833.94\n",
            "CREAM HEART CARD HOLDER                5449.68\n",
            "BLACK HEART CARD HOLDER                5106.44\n",
            "ROUND SNACK BOXES SET OF 4 FRUITS      4713.95\n",
            "PAPER CHAIN KIT 50'S CHRISTMAS         4349.90\n",
            "Name: Revenue, dtype: float64\n",
            "CustomerID\n",
            "18102.0    27834.61\n",
            "15061.0    19950.66\n",
            "16029.0    12395.52\n",
            "16210.0     7000.64\n",
            "13777.0     6798.16\n",
            "17511.0     6634.76\n",
            "14911.0     6054.19\n",
            "13089.0     5953.21\n",
            "17850.0     5391.21\n",
            "12748.0     3984.51\n",
            "Name: Revenue, dtype: float64\n",
            "Country\n",
            "United Kingdom    443213.85\n",
            "Germany            12391.66\n",
            "France              7872.49\n",
            "Japan               7705.07\n",
            "EIRE                7122.63\n",
            "Norway              3787.12\n",
            "Sweden              2646.30\n",
            "Portugal            2380.12\n",
            "Spain               1843.73\n",
            "Lithuania           1661.06\n",
            "Name: Revenue, dtype: float64\n"
          ]
        }
      ]
    },
    {
      "cell_type": "code",
      "source": [
        "# Orders with revenue > 1000\n",
        "high_revenue = df[df['Revenue'] > 1000]\n",
        "print(high_revenue.head())\n",
        "\n",
        "# Orders in UK only\n",
        "uk_orders = df.query(\"Country == 'United Kingdom'\")\n",
        "print(uk_orders.head())\n",
        "\n",
        "# Orders with quantity between 5 and 20\n",
        "qty_filter = df[df['Quantity'].between(5, 20)]\n",
        "print(qty_filter.head())\n"
      ],
      "metadata": {
        "colab": {
          "base_uri": "https://localhost:8080/"
        },
        "id": "PaWQBUx6jeCL",
        "outputId": "f7a95c25-fffd-463c-adb6-f8f053ad2843"
      },
      "execution_count": 25,
      "outputs": [
        {
          "output_type": "stream",
          "name": "stdout",
          "text": [
            "     InvoiceNo StockCode                     Description  Quantity  \\\n",
            "870     536477     21137        BLACK RECORD COVER FRAME       480   \n",
            "2364    536584    84029E  RED WOOLLY HOTTIE WHITE HEART.       384   \n",
            "4505    536785     22423        REGENCY CAKESTAND 3 TIER       144   \n",
            "4850    536809     84950  ASSORTED COLOUR T-LIGHT HOLDER      1824   \n",
            "4946    536830     21915          RED  HARMONICA IN BOX       1400   \n",
            "\n",
            "             InvoiceDate  UnitPrice  CustomerID         Country  Revenue  \n",
            "870  2010-12-01 12:27:00       3.39     16210.0  United Kingdom   1627.2  \n",
            "2364 2010-12-01 16:22:00       2.95     13777.0  United Kingdom   1132.8  \n",
            "4505 2010-12-02 15:22:00      10.95     15061.0  United Kingdom   1576.8  \n",
            "4850 2010-12-02 16:48:00       0.55     15299.0  United Kingdom   1003.2  \n",
            "4946 2010-12-02 17:38:00       1.06     16754.0  United Kingdom   1484.0  \n",
            "  InvoiceNo StockCode                          Description  Quantity  \\\n",
            "0    536365    85123A   WHITE HANGING HEART T-LIGHT HOLDER         6   \n",
            "1    536365     71053                  WHITE METAL LANTERN         6   \n",
            "2    536365    84406B       CREAM CUPID HEARTS COAT HANGER         8   \n",
            "3    536365    84029G  KNITTED UNION FLAG HOT WATER BOTTLE         6   \n",
            "4    536365    84029E       RED WOOLLY HOTTIE WHITE HEART.         6   \n",
            "\n",
            "          InvoiceDate  UnitPrice  CustomerID         Country  Revenue  \n",
            "0 2010-12-01 08:26:00       2.55     17850.0  United Kingdom    15.30  \n",
            "1 2010-12-01 08:26:00       3.39     17850.0  United Kingdom    20.34  \n",
            "2 2010-12-01 08:26:00       2.75     17850.0  United Kingdom    22.00  \n",
            "3 2010-12-01 08:26:00       3.39     17850.0  United Kingdom    20.34  \n",
            "4 2010-12-01 08:26:00       3.39     17850.0  United Kingdom    20.34  \n",
            "  InvoiceNo StockCode                          Description  Quantity  \\\n",
            "0    536365    85123A   WHITE HANGING HEART T-LIGHT HOLDER         6   \n",
            "1    536365     71053                  WHITE METAL LANTERN         6   \n",
            "2    536365    84406B       CREAM CUPID HEARTS COAT HANGER         8   \n",
            "3    536365    84029G  KNITTED UNION FLAG HOT WATER BOTTLE         6   \n",
            "4    536365    84029E       RED WOOLLY HOTTIE WHITE HEART.         6   \n",
            "\n",
            "          InvoiceDate  UnitPrice  CustomerID         Country  Revenue  \n",
            "0 2010-12-01 08:26:00       2.55     17850.0  United Kingdom    15.30  \n",
            "1 2010-12-01 08:26:00       3.39     17850.0  United Kingdom    20.34  \n",
            "2 2010-12-01 08:26:00       2.75     17850.0  United Kingdom    22.00  \n",
            "3 2010-12-01 08:26:00       3.39     17850.0  United Kingdom    20.34  \n",
            "4 2010-12-01 08:26:00       3.39     17850.0  United Kingdom    20.34  \n"
          ]
        }
      ]
    },
    {
      "cell_type": "code",
      "source": [
        "high_q=df[df['Quantity']>1000]\n",
        "df['Revenue'] = df['Quantity'] * df['UnitPrice']\n",
        "sorted_df = df.sort_values(by='Revenue', ascending=False)\n",
        "print(high_q.head())\n",
        "print(sorted_df.head())"
      ],
      "metadata": {
        "colab": {
          "base_uri": "https://localhost:8080/"
        },
        "id": "H7JQdHGdjjFK",
        "outputId": "f70c11f5-8bea-484d-a1ea-430134857358"
      },
      "execution_count": 26,
      "outputs": [
        {
          "output_type": "stream",
          "name": "stdout",
          "text": [
            "      InvoiceNo StockCode                        Description  Quantity  \\\n",
            "4850     536809     84950     ASSORTED COLOUR T-LIGHT HOLDER      1824   \n",
            "4945     536830     84077  WORLD WAR 2 GLIDERS ASSTD DESIGNS      2880   \n",
            "4946     536830     21915             RED  HARMONICA IN BOX       1400   \n",
            "6365     536890    17084R              ASSORTED INCENSE PACK      1440   \n",
            "16435    537659     22189            CREAM HEART CARD HOLDER      1008   \n",
            "\n",
            "              InvoiceDate  UnitPrice  CustomerID         Country  Revenue  \n",
            "4850  2010-12-02 16:48:00       0.55     15299.0  United Kingdom  1003.20  \n",
            "4945  2010-12-02 17:38:00       0.18     16754.0  United Kingdom   518.40  \n",
            "4946  2010-12-02 17:38:00       1.06     16754.0  United Kingdom  1484.00  \n",
            "6365  2010-12-03 11:48:00       0.16     14156.0            EIRE   230.40  \n",
            "16435 2010-12-07 16:43:00       2.31     18102.0  United Kingdom  2328.48  \n",
            "      InvoiceNo StockCode                         Description  Quantity  \\\n",
            "16438    537659     21623        VINTAGE UNION JACK MEMOBOARD       600   \n",
            "19871    537899     22328  ROUND SNACK BOXES SET OF 4 FRUITS       1488   \n",
            "23263    538191     22423            REGENCY CAKESTAND 3 TIER       272   \n",
            "16440    537659     82484   WOOD BLACK BOARD ANT WHITE FINISH       600   \n",
            "16429    537657     21623        VINTAGE UNION JACK MEMOBOARD       408   \n",
            "\n",
            "              InvoiceDate  UnitPrice  CustomerID         Country  Revenue  \n",
            "16438 2010-12-07 16:43:00       6.38     18102.0  United Kingdom  3828.00  \n",
            "19871 2010-12-09 10:44:00       2.55     12755.0           Japan  3794.40  \n",
            "23263 2010-12-10 10:49:00      10.95     15061.0  United Kingdom  2978.40  \n",
            "16440 2010-12-07 16:43:00       4.78     18102.0  United Kingdom  2868.00  \n",
            "16429 2010-12-07 16:42:00       6.38     18102.0  United Kingdom  2603.04  \n"
          ]
        }
      ]
    },
    {
      "cell_type": "code",
      "source": [
        "product_info = pd.DataFrame({\n",
        "    'StockCode': ['85123A', '71053', '84406B'],\n",
        "    'Category': ['Home', 'Electronics', 'Toys'],\n",
        "    'Supplier': ['Supplier1', 'Supplier2', 'Supplier3']\n",
        "})\n",
        "df = df.merge(product_info, on='StockCode', how='left')"
      ],
      "metadata": {
        "id": "jkyUkRdujm1L"
      },
      "execution_count": 28,
      "outputs": []
    },
    {
      "cell_type": "code",
      "source": [
        "country_group=df.groupby('Country').agg(\n",
        "    Total_Revenue=('Revenue','sum'),\n",
        "    Mean_Revenue=('Revenue','mean'),\n",
        "    order_count=('InvoiceNo','nunique')\n",
        ").sort_values(by='Total_Revenue',ascending=False)\n",
        "print(country_group.head())"
      ],
      "metadata": {
        "colab": {
          "base_uri": "https://localhost:8080/"
        },
        "id": "K7boz-C4jrib",
        "outputId": "4dde0198-7798-4240-bde7-8b487cbb916b"
      },
      "execution_count": 29,
      "outputs": [
        {
          "output_type": "stream",
          "name": "stdout",
          "text": [
            "                Total_Revenue  Mean_Revenue  order_count\n",
            "Country                                                 \n",
            "United Kingdom      443213.85     20.372965         1414\n",
            "Germany              12391.66     28.486575           37\n",
            "France                7872.49     21.392636           19\n",
            "Japan                 7705.07    118.539538            3\n",
            "EIRE                  7122.63     25.529140           14\n"
          ]
        }
      ]
    },
    {
      "cell_type": "code",
      "source": [
        "bins = [0, 5, 20, np.inf]\n",
        "labels = ['Cheap', 'Medium', 'Expensive']\n",
        "df['Price_Range'] = pd.cut(df['UnitPrice'], bins=bins, labels=labels)\n",
        "price_group = df.groupby('Price_Range').agg(\n",
        "    Purchases=('InvoiceNo', 'count'),\n",
        "    Avg_Revenue=('Revenue', 'mean')\n",
        ")\n",
        "print(price_group)"
      ],
      "metadata": {
        "colab": {
          "base_uri": "https://localhost:8080/"
        },
        "id": "Tsk_JuXDjwG2",
        "outputId": "3cc29344-01f7-43c3-d0ae-1efc18f9b0c6"
      },
      "execution_count": 30,
      "outputs": [
        {
          "output_type": "stream",
          "name": "stdout",
          "text": [
            "             Purchases  Avg_Revenue\n",
            "Price_Range                        \n",
            "Cheap            20305    19.106528\n",
            "Medium            3211    31.334675\n",
            "Expensive           81   120.726420\n"
          ]
        },
        {
          "output_type": "stream",
          "name": "stderr",
          "text": [
            "/tmp/ipython-input-2622878853.py:4: FutureWarning: The default of observed=False is deprecated and will be changed to True in a future version of pandas. Pass observed=False to retain current behavior or observed=True to adopt the future default and silence this warning.\n",
            "  price_group = df.groupby('Price_Range').agg(\n"
          ]
        }
      ]
    },
    {
      "cell_type": "code",
      "source": [
        "# Rename columns\n",
        "df.rename(columns={'StockCode':'Product_ID', 'UnitPrice':'Price'}, inplace=True)\n",
        "# String operations on Description\n",
        "df['Description_lower'] = df['Description'].str.lower()\n",
        "# Filter products containing 'glass'\n",
        "glass_products = df[df['Description_lower'].str.contains('glass')]\n",
        "print(glass_products.head())"
      ],
      "metadata": {
        "colab": {
          "base_uri": "https://localhost:8080/"
        },
        "id": "P8CJmUQyj0RG",
        "outputId": "3ef122a7-8ec4-492b-902b-8f30f9f5ca80"
      },
      "execution_count": 31,
      "outputs": [
        {
          "output_type": "stream",
          "name": "stdout",
          "text": [
            "    InvoiceNo Product_ID                        Description  Quantity  \\\n",
            "6      536365      21730  GLASS STAR FROSTED T-LIGHT HOLDER         6   \n",
            "64     536373      21730  GLASS STAR FROSTED T-LIGHT HOLDER         6   \n",
            "81     536375      21730  GLASS STAR FROSTED T-LIGHT HOLDER         6   \n",
            "137    536381      22778                 GLASS CLOCHE SMALL         3   \n",
            "147    536382      22798   ANTIQUE GLASS DRESSING TABLE POT         8   \n",
            "\n",
            "            InvoiceDate  Price  CustomerID         Country  Revenue  \\\n",
            "6   2010-12-01 08:26:00   4.25     17850.0  United Kingdom    25.50   \n",
            "64  2010-12-01 09:02:00   4.25     17850.0  United Kingdom    25.50   \n",
            "81  2010-12-01 09:32:00   4.25     17850.0  United Kingdom    25.50   \n",
            "137 2010-12-01 09:41:00   3.95     15311.0  United Kingdom    11.85   \n",
            "147 2010-12-01 09:45:00   2.95     16098.0  United Kingdom    23.60   \n",
            "\n",
            "    Category_x Supplier_x Category_y Supplier_y Price_Range  \\\n",
            "6          NaN        NaN        NaN        NaN       Cheap   \n",
            "64         NaN        NaN        NaN        NaN       Cheap   \n",
            "81         NaN        NaN        NaN        NaN       Cheap   \n",
            "137        NaN        NaN        NaN        NaN       Cheap   \n",
            "147        NaN        NaN        NaN        NaN       Cheap   \n",
            "\n",
            "                     Description_lower  \n",
            "6    glass star frosted t-light holder  \n",
            "64   glass star frosted t-light holder  \n",
            "81   glass star frosted t-light holder  \n",
            "137                 glass cloche small  \n",
            "147   antique glass dressing table pot  \n"
          ]
        }
      ]
    },
    {
      "cell_type": "code",
      "source": [
        "import pandas as pd\n",
        "df = pd.read_csv(\"OnlineRetail.csv\", encoding='ISO-8859-1', on_bad_lines='skip')\n",
        "print(df.head())\n",
        "\n",
        "# Create Revenue column\n",
        "df['Revenue'] = df['Quantity'] * df['UnitPrice']\n",
        "\n",
        "# Descriptive Statistics\n",
        "print(df.describe())\n",
        "print(df['Country'].value_counts())\n",
        "\n",
        "# Advanced Filtering\n",
        "high_revenue = df.query(\"Revenue > 1000 and Country == 'Germany'\")\n",
        "print(high_revenue.head())\n",
        "\n",
        "quantity_range = df[df['Quantity'].between(10, 100)]\n",
        "print(quantity_range.head())\n",
        "\n",
        "# Export Cleaned Data\n",
        "df.to_csv(\"Cleaned_OnlineRetail.csv\", index=False)\n",
        "df.to_excel(\"Cleaned_OnlineRetail.xlsx\", index=False)"
      ],
      "metadata": {
        "colab": {
          "base_uri": "https://localhost:8080/"
        },
        "id": "70ZyWmN-j-IM",
        "outputId": "e4f6ae1f-1fc5-4cfd-df27-3d844b0bdbcf"
      },
      "execution_count": 32,
      "outputs": [
        {
          "output_type": "stream",
          "name": "stdout",
          "text": [
            "  InvoiceNo StockCode                          Description  Quantity  \\\n",
            "0    536365    85123A   WHITE HANGING HEART T-LIGHT HOLDER         6   \n",
            "1    536365     71053                  WHITE METAL LANTERN         6   \n",
            "2    536365    84406B       CREAM CUPID HEARTS COAT HANGER         8   \n",
            "3    536365    84029G  KNITTED UNION FLAG HOT WATER BOTTLE         6   \n",
            "4    536365    84029E       RED WOOLLY HOTTIE WHITE HEART.         6   \n",
            "\n",
            "      InvoiceDate  UnitPrice  CustomerID         Country  \n",
            "0  12/1/2010 8:26       2.55     17850.0  United Kingdom  \n",
            "1  12/1/2010 8:26       3.39     17850.0  United Kingdom  \n",
            "2  12/1/2010 8:26       2.75     17850.0  United Kingdom  \n",
            "3  12/1/2010 8:26       3.39     17850.0  United Kingdom  \n",
            "4  12/1/2010 8:26       3.39     17850.0  United Kingdom  \n",
            "            Quantity      UnitPrice     CustomerID        Revenue\n",
            "count  486624.000000  486623.000000  367486.000000  486623.000000\n",
            "mean        9.686686       4.617348   15283.136743      18.167570\n",
            "std       159.871639      96.860577    1712.115838     204.311458\n",
            "min    -74215.000000  -11062.060000   12346.000000  -77183.600000\n",
            "25%         1.000000       1.250000   13936.000000       3.750000\n",
            "50%         3.000000       2.080000   15152.000000       9.900000\n",
            "75%        10.000000       4.130000   16780.000000      17.700000\n",
            "max     74215.000000   38970.000000   18287.000000   77183.600000\n",
            "Country\n",
            "United Kingdom          443528\n",
            "Germany                   8751\n",
            "France                    7732\n",
            "EIRE                      7560\n",
            "Spain                     2418\n",
            "Netherlands               2208\n",
            "Switzerland               1964\n",
            "Belgium                   1941\n",
            "Portugal                  1342\n",
            "Australia                 1251\n",
            "Norway                     896\n",
            "Italy                      751\n",
            "Channel Islands            750\n",
            "Finland                    644\n",
            "Cyprus                     618\n",
            "Sweden                     453\n",
            "Unspecified                412\n",
            "Austria                    394\n",
            "Denmark                    351\n",
            "Japan                      349\n",
            "Poland                     341\n",
            "Israel                     297\n",
            "Hong Kong                  288\n",
            "USA                        248\n",
            "Singapore                  229\n",
            "Iceland                    171\n",
            "Canada                     151\n",
            "Malta                      117\n",
            "Greece                     110\n",
            "United Arab Emirates        68\n",
            "European Community          61\n",
            "RSA                         58\n",
            "Lebanon                     45\n",
            "Lithuania                   35\n",
            "Brazil                      32\n",
            "Czech Republic              30\n",
            "Bahrain                     19\n",
            "Saudi Arabia                10\n",
            "Name: count, dtype: int64\n",
            "Empty DataFrame\n",
            "Columns: [InvoiceNo, StockCode, Description, Quantity, InvoiceDate, UnitPrice, CustomerID, Country, Revenue]\n",
            "Index: []\n",
            "   InvoiceNo StockCode                      Description  Quantity  \\\n",
            "9     536367     84879    ASSORTED COLOUR BIRD ORNAMENT        32   \n",
            "26    536370     22728        ALARM CLOCK BAKELIKE PINK        24   \n",
            "27    536370     22727        ALARM CLOCK BAKELIKE RED         24   \n",
            "28    536370     22726       ALARM CLOCK BAKELIKE GREEN        12   \n",
            "29    536370     21724  PANDA AND BUNNIES STICKER SHEET        12   \n",
            "\n",
            "       InvoiceDate  UnitPrice  CustomerID         Country  Revenue  \n",
            "9   12/1/2010 8:34       1.69     13047.0  United Kingdom    54.08  \n",
            "26  12/1/2010 8:45       3.75     12583.0          France    90.00  \n",
            "27  12/1/2010 8:45       3.75     12583.0          France    90.00  \n",
            "28  12/1/2010 8:45       3.75     12583.0          France    45.00  \n",
            "29  12/1/2010 8:45       0.85     12583.0          France    10.20  \n"
          ]
        }
      ]
    },
    {
      "cell_type": "code",
      "source": [],
      "metadata": {
        "id": "J_U0z5ThkEAY"
      },
      "execution_count": null,
      "outputs": []
    }
  ]
}