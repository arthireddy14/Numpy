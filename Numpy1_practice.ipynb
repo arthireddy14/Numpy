{
 "cells": [
  {
   "cell_type": "code",
   "execution_count": null,
   "metadata": {
    "colab": {
     "base_uri": "https://localhost:8080/"
    },
    "executionInfo": {
     "elapsed": 7202,
     "status": "ok",
     "timestamp": 1759897713390,
     "user": {
      "displayName": "Arthi Reddy Chinninti",
      "userId": "00025626990419255997"
     },
     "user_tz": -330
    },
    "id": "u8g1OpcqCgSG",
    "outputId": "590e7d40-8c5a-4d20-8082-32ac902d5104"
   },
   "outputs": [
    {
     "name": "stdout",
     "output_type": "stream",
     "text": [
      "Requirement already satisfied: numpy in /usr/local/lib/python3.12/dist-packages (2.0.2)\n"
     ]
    }
   ],
   "source": [
    "pip install numpy\n"
   ]
  },
  {
   "cell_type": "code",
   "execution_count": null,
   "metadata": {
    "id": "6vtK9811Ct1b"
   },
   "outputs": [],
   "source": [
    "import numpy as np"
   ]
  },
  {
   "cell_type": "code",
   "execution_count": null,
   "metadata": {
    "colab": {
     "base_uri": "https://localhost:8080/"
    },
    "executionInfo": {
     "elapsed": 15,
     "status": "ok",
     "timestamp": 1759897780522,
     "user": {
      "displayName": "Arthi Reddy Chinninti",
      "userId": "00025626990419255997"
     },
     "user_tz": -330
    },
    "id": "D5XhjYkmC59C",
    "outputId": "a6ca1bae-0a46-42ee-bc86-296e2c4d3d5a"
   },
   "outputs": [
    {
     "name": "stdout",
     "output_type": "stream",
     "text": [
      "[1 2 3]\n"
     ]
    }
   ],
   "source": [
    "arr0d=np.array(50)\n",
    "arr1d=np.array([1,2,3])\n",
    "print(arr1d)"
   ]
  },
  {
   "cell_type": "code",
   "execution_count": null,
   "metadata": {
    "colab": {
     "base_uri": "https://localhost:8080/"
    },
    "executionInfo": {
     "elapsed": 28,
     "status": "ok",
     "timestamp": 1759899858557,
     "user": {
      "displayName": "Arthi Reddy Chinninti",
      "userId": "00025626990419255997"
     },
     "user_tz": -330
    },
    "id": "D1knWK3fDoFL",
    "outputId": "f3ace19f-4947-4b23-de60-d74346bb5deb"
   },
   "outputs": [
    {
     "name": "stdout",
     "output_type": "stream",
     "text": [
      "[[1 2 3]\n",
      " [4 5 6]]\n",
      "3\n",
      "4\n",
      "5\n"
     ]
    }
   ],
   "source": [
    "arr2d=np.array([[1,2,3],[4,5,6]])\n",
    "print(arr2d)\n",
    "print(arr2d[0,2])\n",
    "print(arr2d[1,0])\n",
    "print(arr2d[1,-2])"
   ]
  },
  {
   "cell_type": "code",
   "execution_count": null,
   "metadata": {
    "colab": {
     "base_uri": "https://localhost:8080/"
    },
    "executionInfo": {
     "elapsed": 41,
     "status": "ok",
     "timestamp": 1759899473955,
     "user": {
      "displayName": "Arthi Reddy Chinninti",
      "userId": "00025626990419255997"
     },
     "user_tz": -330
    },
    "id": "CM4pVed9DxIR",
    "outputId": "ebd569df-f61c-4af9-ff04-f93b9b780ed6"
   },
   "outputs": [
    {
     "name": "stdout",
     "output_type": "stream",
     "text": [
      "[[[1 2 3]\n",
      "  [4 5 6]\n",
      "  [7 8 9]]\n",
      "\n",
      " [[0 1 2]\n",
      "  [3 4 5]\n",
      "  [6 7 8]]]\n",
      "(2, 3, 3)\n",
      "18\n",
      "int64\n",
      "3\n"
     ]
    }
   ],
   "source": [
    "arr3d=np.array([[[1,2,3],[4,5,6],[7,8,9]],[[0,1,2],[3,4,5],[6,7,8]]])\n",
    "print(arr3d)\n",
    "print(arr3d.shape)\n",
    "print(arr3d.size)\n",
    "print(arr3d.dtype)\n",
    "print(arr3d.ndim)"
   ]
  },
  {
   "cell_type": "code",
   "execution_count": null,
   "metadata": {
    "colab": {
     "base_uri": "https://localhost:8080/"
    },
    "executionInfo": {
     "elapsed": 355,
     "status": "ok",
     "timestamp": 1759897821599,
     "user": {
      "displayName": "Arthi Reddy Chinninti",
      "userId": "00025626990419255997"
     },
     "user_tz": -330
    },
    "id": "UxO9c6qXD_x4",
    "outputId": "4c50804e-f30a-415a-b21e-fd38b3aa3c59"
   },
   "outputs": [
    {
     "name": "stdout",
     "output_type": "stream",
     "text": [
      "0\n",
      "1\n",
      "2\n",
      "3\n"
     ]
    }
   ],
   "source": [
    "print(arr0d.ndim)\n",
    "print(arr1d.ndim)\n",
    "print(arr2d.ndim)\n",
    "print(arr3d.ndim)"
   ]
  },
  {
   "cell_type": "code",
   "execution_count": null,
   "metadata": {
    "colab": {
     "base_uri": "https://localhost:8080/"
    },
    "executionInfo": {
     "elapsed": 17,
     "status": "ok",
     "timestamp": 1759897998751,
     "user": {
      "displayName": "Arthi Reddy Chinninti",
      "userId": "00025626990419255997"
     },
     "user_tz": -330
    },
    "id": "v5Q-PKjXE9F0",
    "outputId": "c5a5d7f2-7723-4308-80f9-30b0275cf9db"
   },
   "outputs": [
    {
     "name": "stdout",
     "output_type": "stream",
     "text": [
      "[[0. 0. 0.]\n",
      " [0. 0. 0.]]\n"
     ]
    }
   ],
   "source": [
    "zeros=np.zeros((2,3))\n",
    "print(zeros)"
   ]
  },
  {
   "cell_type": "code",
   "execution_count": null,
   "metadata": {
    "colab": {
     "base_uri": "https://localhost:8080/"
    },
    "executionInfo": {
     "elapsed": 412,
     "status": "ok",
     "timestamp": 1759898031084,
     "user": {
      "displayName": "Arthi Reddy Chinninti",
      "userId": "00025626990419255997"
     },
     "user_tz": -330
    },
    "id": "y6bFskDsGFR6",
    "outputId": "c44c661e-38f6-44ad-e188-bfeac7a15471"
   },
   "outputs": [
    {
     "name": "stdout",
     "output_type": "stream",
     "text": [
      "[[1. 1. 1.]\n",
      " [1. 1. 1.]\n",
      " [1. 1. 1.]]\n"
     ]
    }
   ],
   "source": [
    "ones=np.ones((3,3))\n",
    "print(ones)"
   ]
  },
  {
   "cell_type": "code",
   "execution_count": null,
   "metadata": {
    "colab": {
     "base_uri": "https://localhost:8080/"
    },
    "executionInfo": {
     "elapsed": 13,
     "status": "ok",
     "timestamp": 1759898100483,
     "user": {
      "displayName": "Arthi Reddy Chinninti",
      "userId": "00025626990419255997"
     },
     "user_tz": -330
    },
    "id": "mcMJLInHGNFS",
    "outputId": "bddd1d23-7d00-4b80-97c4-bd2cbbf15d65"
   },
   "outputs": [
    {
     "name": "stdout",
     "output_type": "stream",
     "text": [
      "[[0.89073026 0.54730438]\n",
      " [0.79399887 0.5367    ]]\n"
     ]
    }
   ],
   "source": [
    "random_arr=np.random.random((2,2))\n",
    "print(random_arr)"
   ]
  },
  {
   "cell_type": "code",
   "execution_count": null,
   "metadata": {
    "colab": {
     "base_uri": "https://localhost:8080/"
    },
    "executionInfo": {
     "elapsed": 54,
     "status": "ok",
     "timestamp": 1759898367566,
     "user": {
      "displayName": "Arthi Reddy Chinninti",
      "userId": "00025626990419255997"
     },
     "user_tz": -330
    },
    "id": "7UW4HjOLGayQ",
    "outputId": "5ecfd620-5839-4831-d293-1a2a3b03c881"
   },
   "outputs": [
    {
     "name": "stdout",
     "output_type": "stream",
     "text": [
      "[[1. 0. 0. 0. 0.]\n",
      " [0. 1. 0. 0. 0.]\n",
      " [0. 0. 1. 0. 0.]\n",
      " [0. 0. 0. 1. 0.]\n",
      " [0. 0. 0. 0. 1.]]\n"
     ]
    }
   ],
   "source": [
    "identity=np.eye(5)\n",
    "print(identity)"
   ]
  },
  {
   "cell_type": "code",
   "execution_count": null,
   "metadata": {
    "colab": {
     "base_uri": "https://localhost:8080/"
    },
    "executionInfo": {
     "elapsed": 28,
     "status": "ok",
     "timestamp": 1759898340259,
     "user": {
      "displayName": "Arthi Reddy Chinninti",
      "userId": "00025626990419255997"
     },
     "user_tz": -330
    },
    "id": "6tn-cGWQHGk4",
    "outputId": "b676793c-c776-46cc-a7a0-fdd7ca9dce0f"
   },
   "outputs": [
    {
     "name": "stdout",
     "output_type": "stream",
     "text": [
      "[ 0  2  4  6  8 10 12 14 16 18 20]\n"
     ]
    }
   ],
   "source": [
    "range_arr=np.arange(0,21,2)\n",
    "print(range_arr)"
   ]
  },
  {
   "cell_type": "code",
   "execution_count": null,
   "metadata": {
    "colab": {
     "base_uri": "https://localhost:8080/"
    },
    "executionInfo": {
     "elapsed": 27,
     "status": "ok",
     "timestamp": 1759898651680,
     "user": {
      "displayName": "Arthi Reddy Chinninti",
      "userId": "00025626990419255997"
     },
     "user_tz": -330
    },
    "id": "qcN-ahf5HQmF",
    "outputId": "b9fc3ccc-1213-45d0-9e07-e6a74a1c6f4e"
   },
   "outputs": [
    {
     "name": "stdout",
     "output_type": "stream",
     "text": [
      "(2, 3)\n",
      "6\n",
      "int64\n",
      "2\n"
     ]
    }
   ],
   "source": [
    "arr1=np.array([[1,2,3],[4,5,6]])\n",
    "print(arr1.shape)\n",
    "print(arr1.size)#length\n",
    "print(arr1.dtype)#data type\n",
    "print(arr1.ndim)#No of dimensions"
   ]
  },
  {
   "cell_type": "code",
   "execution_count": null,
   "metadata": {
    "colab": {
     "base_uri": "https://localhost:8080/"
    },
    "executionInfo": {
     "elapsed": 84,
     "status": "ok",
     "timestamp": 1759898945118,
     "user": {
      "displayName": "Arthi Reddy Chinninti",
      "userId": "00025626990419255997"
     },
     "user_tz": -330
    },
    "id": "LA4qZLKRIRZt",
    "outputId": "1f6bae29-a35c-409d-a6ae-644963230c70"
   },
   "outputs": [
    {
     "name": "stdout",
     "output_type": "stream",
     "text": [
      "(2, 3)\n",
      "6\n",
      "int64\n",
      "2\n"
     ]
    }
   ],
   "source": [
    "temp_data=np.array([[22,25,20],[24,26,23]])\n",
    "print(temp_data.shape)\n",
    "print(temp_data.size)\n",
    "print(temp_data.dtype)\n",
    "print(temp_data.ndim)"
   ]
  },
  {
   "cell_type": "code",
   "execution_count": null,
   "metadata": {
    "colab": {
     "base_uri": "https://localhost:8080/"
    },
    "executionInfo": {
     "elapsed": 25,
     "status": "ok",
     "timestamp": 1759899062101,
     "user": {
      "displayName": "Arthi Reddy Chinninti",
      "userId": "00025626990419255997"
     },
     "user_tz": -330
    },
    "id": "GfdjQ6_XJr0e",
    "outputId": "352c726c-6fc6-44ac-a4a7-ccf71c646efc"
   },
   "outputs": [
    {
     "name": "stdout",
     "output_type": "stream",
     "text": [
      "[[22 25 20]\n",
      " [24 26 23]\n",
      " [21 23 22]]\n"
     ]
    }
   ],
   "source": [
    "updated_tempdata=np.array([[22,25,20],[24,26,23],[21,23,22]])\n",
    "print(updated_tempdata)"
   ]
  },
  {
   "cell_type": "code",
   "execution_count": null,
   "metadata": {
    "colab": {
     "base_uri": "https://localhost:8080/"
    },
    "executionInfo": {
     "elapsed": 537,
     "status": "ok",
     "timestamp": 1759899127598,
     "user": {
      "displayName": "Arthi Reddy Chinninti",
      "userId": "00025626990419255997"
     },
     "user_tz": -330
    },
    "id": "MvxPiOoIKI0A",
    "outputId": "90a07cf8-2682-419e-bccc-2b745a58e901"
   },
   "outputs": [
    {
     "name": "stdout",
     "output_type": "stream",
     "text": [
      "[[0. 0. 0.]\n",
      " [0. 0. 0.]]\n"
     ]
    }
   ],
   "source": [
    "sensor_errorflags=np.zeros((2,3))\n",
    "print(sensor_errorflags)"
   ]
  },
  {
   "cell_type": "code",
   "execution_count": null,
   "metadata": {
    "colab": {
     "base_uri": "https://localhost:8080/"
    },
    "executionInfo": {
     "elapsed": 1028,
     "status": "ok",
     "timestamp": 1759899160928,
     "user": {
      "displayName": "Arthi Reddy Chinninti",
      "userId": "00025626990419255997"
     },
     "user_tz": -330
    },
    "id": "n1HYDQvgKYnw",
    "outputId": "276570e4-cc66-41f9-86b0-868466b53f96"
   },
   "outputs": [
    {
     "name": "stdout",
     "output_type": "stream",
     "text": [
      "[[1. 0. 0.]\n",
      " [0. 1. 0.]\n",
      " [0. 0. 1.]]\n"
     ]
    }
   ],
   "source": [
    "greenhouse_identity=np.eye(3,3)\n",
    "print(greenhouse_identity)"
   ]
  },
  {
   "cell_type": "code",
   "execution_count": null,
   "metadata": {
    "colab": {
     "base_uri": "https://localhost:8080/"
    },
    "executionInfo": {
     "elapsed": 326,
     "status": "ok",
     "timestamp": 1759899215009,
     "user": {
      "displayName": "Arthi Reddy Chinninti",
      "userId": "00025626990419255997"
     },
     "user_tz": -330
    },
    "id": "M67j0ueuKgt-",
    "outputId": "5e24ee41-2c48-40b2-ac5b-af3a28cc7e72"
   },
   "outputs": [
    {
     "name": "stdout",
     "output_type": "stream",
     "text": [
      "[[22 25 20]\n",
      " [24 26 23]\n",
      " [21 23 22]]\n",
      "[[0. 0. 0.]\n",
      " [0. 0. 0.]]\n",
      "[[1. 0. 0.]\n",
      " [0. 1. 0.]\n",
      " [0. 0. 1.]]\n"
     ]
    }
   ],
   "source": [
    "print(updated_tempdata)\n",
    "print(sensor_errorflags)\n",
    "print(greenhouse_identity)"
   ]
  },
  {
   "cell_type": "code",
   "execution_count": null,
   "metadata": {
    "colab": {
     "base_uri": "https://localhost:8080/"
    },
    "executionInfo": {
     "elapsed": 103,
     "status": "ok",
     "timestamp": 1759900176554,
     "user": {
      "displayName": "Arthi Reddy Chinninti",
      "userId": "00025626990419255997"
     },
     "user_tz": -330
    },
    "id": "juyiLsLpKuDr",
    "outputId": "5bd8e41a-a123-4045-da6e-454e107d59b9"
   },
   "outputs": [
    {
     "name": "stdout",
     "output_type": "stream",
     "text": [
      "[[20]\n",
      " [50]]\n"
     ]
    }
   ],
   "source": [
    "arr2=np.array([[10,20],[40,50]])\n",
    "print(arr2[:,1:])"
   ]
  },
  {
   "cell_type": "code",
   "execution_count": null,
   "metadata": {
    "colab": {
     "base_uri": "https://localhost:8080/"
    },
    "executionInfo": {
     "elapsed": 70,
     "status": "ok",
     "timestamp": 1759900415800,
     "user": {
      "displayName": "Arthi Reddy Chinninti",
      "userId": "00025626990419255997"
     },
     "user_tz": -330
    },
    "id": "xaTs3-lhNwkH",
    "outputId": "be12a3e3-ea37-4d97-99d4-e717dbfdc0d6"
   },
   "outputs": [
    {
     "name": "stdout",
     "output_type": "stream",
     "text": [
      "55\n",
      "75\n"
     ]
    }
   ],
   "source": [
    "shipments=np.array([[50,60,55,70,65,80,90],[40,45,50,60,55,70,75]])\n",
    "print(shipments[0,2])\n",
    "print(shipments[1,6])"
   ]
  },
  {
   "cell_type": "code",
   "execution_count": null,
   "metadata": {
    "colab": {
     "base_uri": "https://localhost:8080/"
    },
    "executionInfo": {
     "elapsed": 95,
     "status": "ok",
     "timestamp": 1759903157229,
     "user": {
      "displayName": "Arthi Reddy Chinninti",
      "userId": "00025626990419255997"
     },
     "user_tz": -330
    },
    "id": "lkQgnAWVPLzJ",
    "outputId": "495fd67c-b8e3-4498-d853-6f28a2e0efb1"
   },
   "outputs": [
    {
     "name": "stdout",
     "output_type": "stream",
     "text": [
      "[[50 60 55 70 65]\n",
      " [40 45 50 60 55]]\n"
     ]
    }
   ],
   "source": [
    "print(shipments[:,0:5:1])"
   ]
  },
  {
   "cell_type": "code",
   "execution_count": null,
   "metadata": {
    "colab": {
     "base_uri": "https://localhost:8080/"
    },
    "executionInfo": {
     "elapsed": 51,
     "status": "ok",
     "timestamp": 1759900945842,
     "user": {
      "displayName": "Arthi Reddy Chinninti",
      "userId": "00025626990419255997"
     },
     "user_tz": -330
    },
    "id": "j28fQKe_Pi9p",
    "outputId": "ebe4c00a-bcd0-41a7-85f4-3e61ef000e8e"
   },
   "outputs": [
    {
     "name": "stdout",
     "output_type": "stream",
     "text": [
      "[[80 90]\n",
      " [70 75]]\n",
      "[55 70 65 80]\n"
     ]
    }
   ],
   "source": [
    "print(shipments[:,5:7])\n",
    "print(shipments[0,2:6])"
   ]
  },
  {
   "cell_type": "code",
   "execution_count": null,
   "metadata": {
    "colab": {
     "base_uri": "https://localhost:8080/"
    },
    "executionInfo": {
     "elapsed": 394,
     "status": "ok",
     "timestamp": 1759901092911,
     "user": {
      "displayName": "Arthi Reddy Chinninti",
      "userId": "00025626990419255997"
     },
     "user_tz": -330
    },
    "id": "m9WthK8MQcyC",
    "outputId": "07db1319-52a4-4f02-b0fb-e04d2eef4c15"
   },
   "outputs": [
    {
     "name": "stdout",
     "output_type": "stream",
     "text": [
      "[[50 60 55 70 65 80 90]\n",
      " [40 45 50 60 55 70 75]]\n",
      "[[ 50  60  55  70  65 100  90]\n",
      " [ 40  45  50  60  55  70  75]]\n"
     ]
    }
   ],
   "source": [
    "print(shipments)\n",
    "shipments[0,5]=100\n",
    "print(shipments)"
   ]
  },
  {
   "cell_type": "code",
   "execution_count": null,
   "metadata": {
    "colab": {
     "base_uri": "https://localhost:8080/"
    },
    "executionInfo": {
     "elapsed": 31,
     "status": "ok",
     "timestamp": 1759902687062,
     "user": {
      "displayName": "Arthi Reddy Chinninti",
      "userId": "00025626990419255997"
     },
     "user_tz": -330
    },
    "id": "DQ3iSG5zR4hl",
    "outputId": "a8d341e0-7119-48ce-9dc7-017375659383"
   },
   "outputs": [
    {
     "name": "stdout",
     "output_type": "stream",
     "text": [
      "[5 7 9]\n",
      "[ 4 10 18]\n",
      "[2 4 6]\n",
      "[1 2 3]\n",
      "[ 4 10 18]\n"
     ]
    }
   ],
   "source": [
    "a=np.array([1,2,3])\n",
    "b=np.array([4,5,6])\n",
    "print(a+b)#ele by ele addition\n",
    "print(a*b)#ele by ele multiplication\n",
    "print(a*2)\n",
    "print(a)\n",
    "a=a*b\n",
    "print(a)"
   ]
  },
  {
   "cell_type": "code",
   "execution_count": null,
   "metadata": {
    "colab": {
     "base_uri": "https://localhost:8080/"
    },
    "executionInfo": {
     "elapsed": 686,
     "status": "ok",
     "timestamp": 1759903886448,
     "user": {
      "displayName": "Arthi Reddy Chinninti",
      "userId": "00025626990419255997"
     },
     "user_tz": -330
    },
    "id": "4FZ35juoXWIJ",
    "outputId": "c534f88e-6d5a-4fdb-d55e-9bde04fe4918"
   },
   "outputs": [
    {
     "name": "stdout",
     "output_type": "stream",
     "text": [
      "14\n",
      "120\n",
      "[[12 21]\n",
      " [32 45]]\n",
      "[[36 41]\n",
      " [64 73]]\n"
     ]
    }
   ],
   "source": [
    "mat1=np.array([[2,3],[4,5]])\n",
    "print(np.sum(mat1))\n",
    "print(np.prod(mat1))\n",
    "mat2=np.array([[6,7],[8,9]])\n",
    "print(mat1*mat2)#Element by element multiplication\n",
    "res=np.dot(mat1,mat2)#Matrix multiplication\n",
    "print(res)\n"
   ]
  },
  {
   "cell_type": "code",
   "execution_count": null,
   "metadata": {
    "colab": {
     "base_uri": "https://localhost:8080/"
    },
    "executionInfo": {
     "elapsed": 18,
     "status": "ok",
     "timestamp": 1759903091764,
     "user": {
      "displayName": "Arthi Reddy Chinninti",
      "userId": "00025626990419255997"
     },
     "user_tz": -330
    },
    "id": "BJntE5v-YYkE",
    "outputId": "9260535e-0819-488e-a0fa-a3559de73941"
   },
   "outputs": [
    {
     "name": "stdout",
     "output_type": "stream",
     "text": [
      "[3 4 5]\n"
     ]
    }
   ],
   "source": [
    "a1=np.array([1,2,3])\n",
    "b1=2\n",
    "print(a1+b1)#[3,4,5]"
   ]
  },
  {
   "cell_type": "code",
   "execution_count": null,
   "metadata": {
    "colab": {
     "base_uri": "https://localhost:8080/"
    },
    "executionInfo": {
     "elapsed": 815,
     "status": "ok",
     "timestamp": 1759903969878,
     "user": {
      "displayName": "Arthi Reddy Chinninti",
      "userId": "00025626990419255997"
     },
     "user_tz": -330
    },
    "id": "FmEMJZwwZDnL",
    "outputId": "187079e4-81b1-4084-9650-dea28f671ef3"
   },
   "outputs": [
    {
     "name": "stdout",
     "output_type": "stream",
     "text": [
      "15\n",
      "-5\n",
      "9765625\n",
      "0.5\n"
     ]
    },
    {
     "data": {
      "text/plain": [
       "np.False_"
      ]
     },
     "execution_count": 114,
     "metadata": {},
     "output_type": "execute_result"
    }
   ],
   "source": [
    "x=5\n",
    "y=10\n",
    "z=np.add(x,y)\n",
    "print(z)\n",
    "print(np.subtract(x,y))\n",
    "print(np.power(x,y))\n",
    "print(np.divide(x,y))\n",
    "np.log(x)\n",
    "np.log10(y)\n",
    "np.radians(y)\n",
    "np.ceil(10.5)\n",
    "np.trunc(10.9)\n",
    "np.equal(x,y)\n",
    "np.greater(x,y)"
   ]
  },
  {
   "cell_type": "code",
   "execution_count": null,
   "metadata": {
    "colab": {
     "base_uri": "https://localhost:8080/"
    },
    "executionInfo": {
     "elapsed": 18,
     "status": "ok",
     "timestamp": 1759905013997,
     "user": {
      "displayName": "Arthi Reddy Chinninti",
      "userId": "00025626990419255997"
     },
     "user_tz": -330
    },
    "id": "8aPa6sbfa0QW",
    "outputId": "c52dd9b1-33db-48e8-fe55-c90f934ade95"
   },
   "outputs": [
    {
     "name": "stdout",
     "output_type": "stream",
     "text": [
      "[[10. 12. 11.]\n",
      " [ 9. 11. 10.]\n",
      " [12. 13. 14.]\n",
      " [ 8.  7.  9.]]\n",
      "[[20 19 21]\n",
      " [18 20 19]\n",
      " [22 23 21]\n",
      " [17 18 16]]\n",
      "[[15 16 14]\n",
      " [14 13 15]\n",
      " [16 17 18]\n",
      " [12 11 13]]\n"
     ]
    }
   ],
   "source": [
    "farmA=np.zeros((4,3))\n",
    "farmA[0]=[10,12,11]\n",
    "farmA[1]=[9,11,10]\n",
    "farmA[2]=[12,13,14]\n",
    "farmA[3]=[8,7,9]\n",
    "farmB=np.array([[20,19,21],[18,20,19],[22,23,21],[17,18,16]])\n",
    "# farmC=np.ones((4,3))\n",
    "rows=[]\n",
    "rows.append([15,16,14])\n",
    "rows.append([14,13,15])\n",
    "rows.append([16,17,18])\n",
    "rows.append([12,11,13])\n",
    "farmC=np.array(rows)\n",
    "print(farmA)\n",
    "print(farmB)\n",
    "print(farmC)"
   ]
  },
  {
   "cell_type": "code",
   "execution_count": null,
   "metadata": {
    "colab": {
     "base_uri": "https://localhost:8080/"
    },
    "executionInfo": {
     "elapsed": 26,
     "status": "ok",
     "timestamp": 1759905195752,
     "user": {
      "displayName": "Arthi Reddy Chinninti",
      "userId": "00025626990419255997"
     },
     "user_tz": -330
    },
    "id": "5CtBJozjdgE1",
    "outputId": "d77d9838-d698-4c2b-aaff-fb2dc514f239"
   },
   "outputs": [
    {
     "name": "stdout",
     "output_type": "stream",
     "text": [
      "[[[10. 12. 11.]\n",
      "  [ 9. 11. 10.]\n",
      "  [12. 13. 14.]\n",
      "  [ 8.  7.  9.]]\n",
      "\n",
      " [[20. 19. 21.]\n",
      "  [18. 20. 19.]\n",
      "  [22. 23. 21.]\n",
      "  [17. 18. 16.]]\n",
      "\n",
      " [[15. 16. 14.]\n",
      "  [14. 13. 15.]\n",
      "  [16. 17. 18.]\n",
      "  [12. 11. 13.]]]\n",
      "(3, 4, 3)\n",
      "36\n",
      "float64\n",
      "3\n"
     ]
    }
   ],
   "source": [
    "production_All=np.stack([farmA,farmB,farmC])\n",
    "print(production_All)\n",
    "print(production_All.shape)\n",
    "print(production_All.size)\n",
    "print(production_All.dtype)\n",
    "print(production_All.ndim)\n"
   ]
  },
  {
   "cell_type": "code",
   "execution_count": null,
   "metadata": {
    "colab": {
     "base_uri": "https://localhost:8080/"
    },
    "executionInfo": {
     "elapsed": 36,
     "status": "ok",
     "timestamp": 1759908962600,
     "user": {
      "displayName": "Arthi Reddy Chinninti",
      "userId": "00025626990419255997"
     },
     "user_tz": -330
    },
    "id": "nDALlCrZhLo3",
    "outputId": "6974ca1d-56ec-4278-d80f-634aa4f596ec"
   },
   "outputs": [
    {
     "name": "stdout",
     "output_type": "stream",
     "text": [
      "[126. 234. 174.]\n",
      "[10.5 19.5 14.5]\n",
      "[1.97905701 1.97905701 1.97905701]\n",
      "[3.91666667 3.91666667 3.91666667]\n"
     ]
    }
   ],
   "source": [
    "# total_per_farm=np.array((3,))\n",
    "# total_per_farm[0]=np.sum(production_All[0])\n",
    "# # print(total_per_farm)\n",
    "# total_per_farm[1]=np.sum(production_All[1])\n",
    "# # print(total_per_farm)\n",
    "# total_per_farm[2]=np.sum(production_All[2])\n",
    "# print(total_per_farm)\n",
    "total_per_farm=production_All.sum(axis=(1,2))\n",
    "print(total_per_farm)\n",
    "mean_per_farm=production_All.mean(axis=(1,2))\n",
    "print(mean_per_farm)\n",
    "std_per_farm=production_All.std(axis=(1,2))\n",
    "print(std_per_farm)\n",
    "var_per_farm=production_All.var(axis=(1,2))\n",
    "print(var_per_farm)"
   ]
  },
  {
   "cell_type": "code",
   "execution_count": null,
   "metadata": {
    "colab": {
     "base_uri": "https://localhost:8080/"
    },
    "executionInfo": {
     "elapsed": 366,
     "status": "ok",
     "timestamp": 1759910360808,
     "user": {
      "displayName": "Arthi Reddy Chinninti",
      "userId": "00025626990419255997"
     },
     "user_tz": -330
    },
    "id": "F6GTLBaqiA89",
    "outputId": "7d20c608-5125-4e7a-8263-f4e394364b1c"
   },
   "outputs": [
    {
     "name": "stdout",
     "output_type": "stream",
     "text": [
      "[[25.25 23.   29.5  17.75]\n",
      " [47.   45.5  52.   40.75]\n",
      " [34.   31.25 38.5  26.75]]\n"
     ]
    }
   ],
   "source": [
    "hours_weights=np.array([0.5,1.0,0.75])\n",
    "weighted_per_panel=np.dot(production_All,hours_weights)\n",
    "print(weighted_per_panel)"
   ]
  },
  {
   "cell_type": "code",
   "execution_count": null,
   "metadata": {
    "colab": {
     "base_uri": "https://localhost:8080/"
    },
    "executionInfo": {
     "elapsed": 112,
     "status": "ok",
     "timestamp": 1759910380460,
     "user": {
      "displayName": "Arthi Reddy Chinninti",
      "userId": "00025626990419255997"
     },
     "user_tz": -330
    },
    "id": "MWlnwsNvwmto",
    "outputId": "ce7ef3db-b85e-47f8-fbf8-bb833765650a"
   },
   "outputs": [
    {
     "name": "stdout",
     "output_type": "stream",
     "text": [
      "[[[10.  12.  11. ]\n",
      "  [ 9.  11.  10. ]\n",
      "  [12.  13.  14. ]\n",
      "  [ 8.   7.   9. ]]\n",
      "\n",
      " [[21.5 20.5 22.5]\n",
      "  [19.5 21.5 20.5]\n",
      "  [23.5 24.5 22.5]\n",
      "  [18.5 19.5 17.5]]\n",
      "\n",
      " [[15.  16.  14. ]\n",
      "  [14.  13.  15. ]\n",
      "  [16.  17.  18. ]\n",
      "  [12.  11.  13. ]]]\n"
     ]
    }
   ],
   "source": [
    "w2=0.5\n",
    "production_All[1]+=w2\n",
    "print(production_All)"
   ]
  },
  {
   "cell_type": "code",
   "execution_count": null,
   "metadata": {
    "colab": {
     "base_uri": "https://localhost:8080/"
    },
    "executionInfo": {
     "elapsed": 3246,
     "status": "ok",
     "timestamp": 1759910575339,
     "user": {
      "displayName": "Arthi Reddy Chinninti",
      "userId": "00025626990419255997"
     },
     "user_tz": -330
    },
    "id": "eZeF_IuZ1l7t",
    "outputId": "6994a153-30fd-4061-844c-e86f8ce5dbac"
   },
   "outputs": [
    {
     "name": "stdout",
     "output_type": "stream",
     "text": [
      "[[[-0.25264558  0.75793673  0.25264558]\n",
      "  [-0.75793673  0.25264558 -0.25264558]\n",
      "  [ 0.75793673  1.26322788  1.76851903]\n",
      "  [-1.26322788 -1.76851903 -0.75793673]]\n",
      "\n",
      " [[ 1.01058231  0.50529115  1.51587346]\n",
      "  [ 0.          1.01058231  0.50529115]\n",
      "  [ 2.02116461  2.52645576  1.51587346]\n",
      "  [-0.50529115  0.         -1.01058231]]\n",
      "\n",
      " [[ 0.25264558  0.75793673 -0.25264558]\n",
      "  [-0.25264558 -0.75793673  0.25264558]\n",
      "  [ 0.75793673  1.26322788  1.76851903]\n",
      "  [-1.26322788 -1.76851903 -0.75793673]]]\n"
     ]
    }
   ],
   "source": [
    "mean_broadcast=mean_per_farm[:,np.newaxis,np.newaxis]\n",
    "std_per_farm[:,np.newaxis,np.newaxis]\n",
    "normalized=(production_All-mean_broadcast)/std_per_farm\n",
    "print(normalized)"
   ]
  },
  {
   "cell_type": "code",
   "execution_count": null,
   "metadata": {
    "colab": {
     "base_uri": "https://localhost:8080/"
    },
    "executionInfo": {
     "elapsed": 548,
     "status": "ok",
     "timestamp": 1759910702135,
     "user": {
      "displayName": "Arthi Reddy Chinninti",
      "userId": "00025626990419255997"
     },
     "user_tz": -330
    },
    "id": "YLt0obFi1cBa",
    "outputId": "a8864fb9-9643-487d-a3d1-eeef370a2a81"
   },
   "outputs": [
    {
     "name": "stdout",
     "output_type": "stream",
     "text": [
      "[1 2 3 4 5 6]\n",
      "[[1 2 3]\n",
      " [4 5 6]]\n"
     ]
    }
   ],
   "source": [
    "arr3=np.array([1,2,3,4,5,6])\n",
    "print(arr3)\n",
    "re_arr3=arr3.reshape(2,3)\n",
    "print(re_arr3)"
   ]
  },
  {
   "cell_type": "code",
   "execution_count": null,
   "metadata": {
    "colab": {
     "base_uri": "https://localhost:8080/"
    },
    "executionInfo": {
     "elapsed": 86,
     "status": "ok",
     "timestamp": 1759910927244,
     "user": {
      "displayName": "Arthi Reddy Chinninti",
      "userId": "00025626990419255997"
     },
     "user_tz": -330
    },
    "id": "hJtnL_Oaw89g",
    "outputId": "d7505aa5-6ce2-413a-f405-292ef18a66ca"
   },
   "outputs": [
    {
     "name": "stdout",
     "output_type": "stream",
     "text": [
      "[[1 2]\n",
      " [3 4]\n",
      " [6 7]]\n",
      "[1 2 3 4 6 7]\n"
     ]
    }
   ],
   "source": [
    "c=np.array([1,2])\n",
    "d=np.array([3,4])\n",
    "e=np.array([6,7])\n",
    "print(np.vstack((c,d,e)))#vertical stack\n",
    "print(np.hstack((c,d,e)))#horizontal stack"
   ]
  },
  {
   "cell_type": "code",
   "execution_count": null,
   "metadata": {
    "colab": {
     "base_uri": "https://localhost:8080/"
    },
    "executionInfo": {
     "elapsed": 20,
     "status": "ok",
     "timestamp": 1759911149861,
     "user": {
      "displayName": "Arthi Reddy Chinninti",
      "userId": "00025626990419255997"
     },
     "user_tz": -330
    },
    "id": "iE5wfjf83AtN",
    "outputId": "cb8e5f6a-25cb-4583-a41a-e3faba0b7c5d"
   },
   "outputs": [
    {
     "name": "stdout",
     "output_type": "stream",
     "text": [
      "[array([1, 2]), array([3]), array([4]), array([5])]\n"
     ]
    }
   ],
   "source": [
    "arr3=np.array([1,2,3,4,5])\n",
    "print(np.array_split(arr3,4))"
   ]
  },
  {
   "cell_type": "code",
   "execution_count": null,
   "metadata": {
    "colab": {
     "base_uri": "https://localhost:8080/"
    },
    "executionInfo": {
     "elapsed": 786,
     "status": "ok",
     "timestamp": 1759911397269,
     "user": {
      "displayName": "Arthi Reddy Chinninti",
      "userId": "00025626990419255997"
     },
     "user_tz": -330
    },
    "id": "YUHAwp2n3vgD",
    "outputId": "78bcf75b-8ff5-4522-9157-4924301407ae"
   },
   "outputs": [
    {
     "name": "stdout",
     "output_type": "stream",
     "text": [
      "[1 2 3 4 5]\n",
      "[4 5]\n",
      "[1 2 3 4 5]\n"
     ]
    }
   ],
   "source": [
    "print(arr3)\n",
    "print(arr3[arr3>3])\n",
    "print(arr3)"
   ]
  },
  {
   "cell_type": "code",
   "execution_count": null,
   "metadata": {
    "colab": {
     "base_uri": "https://localhost:8080/"
    },
    "executionInfo": {
     "elapsed": 38,
     "status": "ok",
     "timestamp": 1759911540650,
     "user": {
      "displayName": "Arthi Reddy Chinninti",
      "userId": "00025626990419255997"
     },
     "user_tz": -330
    },
    "id": "zkMDxEsK5MAE",
    "outputId": "6dfb2f84-9dab-4ed4-a564-0a0fc8399557"
   },
   "outputs": [
    {
     "name": "stdout",
     "output_type": "stream",
     "text": [
      "[10 30 50]\n"
     ]
    }
   ],
   "source": [
    "arr4=np.array([10,20,30,40,50])\n",
    "indices=[0,2,4]\n",
    "print(arr4[indices])"
   ]
  },
  {
   "cell_type": "code",
   "execution_count": null,
   "metadata": {
    "colab": {
     "base_uri": "https://localhost:8080/"
    },
    "executionInfo": {
     "elapsed": 491,
     "status": "ok",
     "timestamp": 1759911719101,
     "user": {
      "displayName": "Arthi Reddy Chinninti",
      "userId": "00025626990419255997"
     },
     "user_tz": -330
    },
    "id": "DogZWYab5dk5",
    "outputId": "43850065-4877-4cea-9d02-9ad7f2b56361"
   },
   "outputs": [
    {
     "name": "stdout",
     "output_type": "stream",
     "text": [
      "[10 20 30 35 50]\n"
     ]
    }
   ],
   "source": [
    "#view shares the memory\n",
    "#copy does not share memory\n",
    "view=arr4.view()\n",
    "view[3]=35\n",
    "print(arr4)"
   ]
  },
  {
   "cell_type": "code",
   "execution_count": null,
   "metadata": {
    "colab": {
     "base_uri": "https://localhost:8080/"
    },
    "executionInfo": {
     "elapsed": 538,
     "status": "ok",
     "timestamp": 1759911801019,
     "user": {
      "displayName": "Arthi Reddy Chinninti",
      "userId": "00025626990419255997"
     },
     "user_tz": -330
    },
    "id": "Dyir94yX6a1e",
    "outputId": "f35f3c4c-6cd8-424a-b184-4f07e6e14c88"
   },
   "outputs": [
    {
     "name": "stdout",
     "output_type": "stream",
     "text": [
      "[10 20 30 35 50]\n"
     ]
    }
   ],
   "source": [
    "copy=arr4.copy()\n",
    "copy[3]=40\n",
    "print(arr4)"
   ]
  },
  {
   "cell_type": "code",
   "execution_count": null,
   "metadata": {
    "id": "p4Ec7eFj6lTg"
   },
   "outputs": [],
   "source": [
    "#save and load\n",
    "#np.save('filename',arr)   load_arr=np.load('filename')"
   ]
  },
  {
   "cell_type": "code",
   "execution_count": null,
   "metadata": {
    "colab": {
     "base_uri": "https://localhost:8080/"
    },
    "executionInfo": {
     "elapsed": 19,
     "status": "ok",
     "timestamp": 1759912744251,
     "user": {
      "displayName": "Arthi Reddy Chinninti",
      "userId": "00025626990419255997"
     },
     "user_tz": -330
    },
    "id": "u_hCgXmJ8M4q",
    "outputId": "740ad08f-f0f0-488f-8037-64acd94fb7cc"
   },
   "outputs": [
    {
     "name": "stdout",
     "output_type": "stream",
     "text": [
      "[10 11 12 13 14 15 16 17 18 19 20 21 22 23 24 25 26 27 28 29 30 31 32 33\n",
      " 34 35 36 37 38 39 40 41 42 43 44 45 46 47 48 49 50]\n",
      "(41,)\n",
      "41\n",
      "int64\n",
      "1\n"
     ]
    }
   ],
   "source": [
    "arr5=np.arange(10,51)\n",
    "print(arr5)\n",
    "print(arr5.shape)\n",
    "print(arr5.size)\n",
    "print(arr5.dtype)\n",
    "print(arr5.ndim)"
   ]
  },
  {
   "cell_type": "code",
   "execution_count": null,
   "metadata": {
    "colab": {
     "base_uri": "https://localhost:8080/"
    },
    "executionInfo": {
     "elapsed": 32,
     "status": "ok",
     "timestamp": 1759912792664,
     "user": {
      "displayName": "Arthi Reddy Chinninti",
      "userId": "00025626990419255997"
     },
     "user_tz": -330
    },
    "id": "8G1BfL2X8Ysp",
    "outputId": "c0f66018-d148-41a6-9c30-e03de4ba2e7e"
   },
   "outputs": [
    {
     "name": "stdout",
     "output_type": "stream",
     "text": [
      "[[0.89678384 0.78417411 0.07858617]\n",
      " [0.03005385 0.02490795 0.7171048 ]\n",
      " [0.19953148 0.1723958  0.93340191]]\n",
      "(3, 3)\n",
      "9\n",
      "float64\n",
      "2\n"
     ]
    }
   ],
   "source": [
    "arr6=np.zeros((3,3))\n",
    "arr6=np.random.rand(3,3)\n",
    "print(arr6)\n",
    "print(arr6.shape)\n",
    "print(arr6.size)\n",
    "print(arr6.dtype)\n",
    "print(arr6.ndim)"
   ]
  },
  {
   "cell_type": "code",
   "execution_count": null,
   "metadata": {
    "colab": {
     "base_uri": "https://localhost:8080/"
    },
    "executionInfo": {
     "elapsed": 78,
     "status": "ok",
     "timestamp": 1759914269530,
     "user": {
      "displayName": "Arthi Reddy Chinninti",
      "userId": "00025626990419255997"
     },
     "user_tz": -330
    },
    "id": "XvmavrdR8kfR",
    "outputId": "1110720f-eea2-4b2c-a29b-ebed994eb570"
   },
   "outputs": [
    {
     "name": "stdout",
     "output_type": "stream",
     "text": [
      "[15 16 17 18 19 20 21 22 23 24 25 26 27 28 29 30 31 32 33 34 35 36 37 38\n",
      " 39 40 41 42 43 44 45 46 47 48 49 50 51 52 53 54 55]\n",
      "[[ 2  6]\n",
      " [ 8 15]]\n",
      "[[ 8 13]\n",
      " [14 23]]\n"
     ]
    }
   ],
   "source": [
    "#w1=5\n",
    "#arr5+=w1#\n",
    "arr5=np.arange(10,51)\n",
    "print(arr5+5)\n",
    "n=np.array([[2,3],[4,5]])\n",
    "m=np.array([[1,2],[2,3]])\n",
    "print(n*m)\n",
    "print(np.dot(n,m))"
   ]
  },
  {
   "cell_type": "code",
   "execution_count": null,
   "metadata": {
    "colab": {
     "base_uri": "https://localhost:8080/"
    },
    "executionInfo": {
     "elapsed": 33,
     "status": "ok",
     "timestamp": 1759913285053,
     "user": {
      "displayName": "Arthi Reddy Chinninti",
      "userId": "00025626990419255997"
     },
     "user_tz": -330
    },
    "id": "b7mmpiX6-oxQ",
    "outputId": "101943aa-b6f3-46ca-8379-e7c2ef3cdc49"
   },
   "outputs": [
    {
     "name": "stdout",
     "output_type": "stream",
     "text": [
      "[[ 1  2  3  4  5]\n",
      " [ 6  7  8  9 10]\n",
      " [11 12 13 14 15]\n",
      " [16 17 18 19 20]\n",
      " [21 22 23 24 25]]\n",
      "[1 2 3 4 5]\n",
      "[ 5 10 15 20 25]\n"
     ]
    }
   ],
   "source": [
    "arr7=np.arange(1,26).reshape(5,5)\n",
    "print(arr7)\n",
    "print(arr7[0])\n",
    "print(arr7[:,-1])"
   ]
  },
  {
   "cell_type": "code",
   "execution_count": null,
   "metadata": {
    "colab": {
     "base_uri": "https://localhost:8080/"
    },
    "executionInfo": {
     "elapsed": 31,
     "status": "ok",
     "timestamp": 1759913378724,
     "user": {
      "displayName": "Arthi Reddy Chinninti",
      "userId": "00025626990419255997"
     },
     "user_tz": -330
    },
    "id": "DNzdu58a_7kc",
    "outputId": "d3e81246-08b1-4e73-96b4-c03cd3ec219f"
   },
   "outputs": [
    {
     "name": "stdout",
     "output_type": "stream",
     "text": [
      "[[ 1  2]\n",
      " [ 6  7]\n",
      " [11 12]]\n"
     ]
    }
   ],
   "source": [
    "print(arr7[0:3,0:2])"
   ]
  },
  {
   "cell_type": "code",
   "execution_count": null,
   "metadata": {
    "colab": {
     "base_uri": "https://localhost:8080/"
    },
    "executionInfo": {
     "elapsed": 6499,
     "status": "ok",
     "timestamp": 1759913596662,
     "user": {
      "displayName": "Arthi Reddy Chinninti",
      "userId": "00025626990419255997"
     },
     "user_tz": -330
    },
    "id": "v5GTTR8FAqOT",
    "outputId": "b146e2a2-6128-4473-d3a0-e7839b497ac6"
   },
   "outputs": [
    {
     "name": "stdout",
     "output_type": "stream",
     "text": [
      "[17 70 48 63 93 84 73 17 71 53]\n"
     ]
    }
   ],
   "source": [
    "arr8=np.random.randint(10,100,size=10)\n",
    "print(arr8)"
   ]
  },
  {
   "cell_type": "code",
   "execution_count": null,
   "metadata": {
    "colab": {
     "base_uri": "https://localhost:8080/"
    },
    "executionInfo": {
     "elapsed": 351,
     "status": "ok",
     "timestamp": 1759913718407,
     "user": {
      "displayName": "Arthi Reddy Chinninti",
      "userId": "00025626990419255997"
     },
     "user_tz": -330
    },
    "id": "iXwHjUJzBCwi",
    "outputId": "417f2f78-018a-4abd-a98b-9da87d7c9917"
   },
   "outputs": [
    {
     "data": {
      "text/plain": [
       "np.float64(24.37806390999909)"
      ]
     },
     "execution_count": 188,
     "metadata": {},
     "output_type": "execute_result"
    }
   ],
   "source": [
    "np.min(arr8)\n",
    "np.max(arr8)\n",
    "np.mean(arr8)\n",
    "np.std(arr8)\n"
   ]
  },
  {
   "cell_type": "code",
   "execution_count": null,
   "metadata": {
    "colab": {
     "base_uri": "https://localhost:8080/"
    },
    "executionInfo": {
     "elapsed": 61,
     "status": "ok",
     "timestamp": 1759913776872,
     "user": {
      "displayName": "Arthi Reddy Chinninti",
      "userId": "00025626990419255997"
     },
     "user_tz": -330
    },
    "id": "GesYVzJ1BqYN",
    "outputId": "fc2ad893-a36e-479a-f981-86380cadef38"
   },
   "outputs": [
    {
     "name": "stdout",
     "output_type": "stream",
     "text": [
      "[[ 1  2  3  4]\n",
      " [ 5  6  7  8]\n",
      " [ 9 10 11 12]]\n"
     ]
    }
   ],
   "source": [
    "arr9=np.arange(1,13).reshape(3,4)\n",
    "print(arr9)\n"
   ]
  },
  {
   "cell_type": "code",
   "execution_count": null,
   "metadata": {
    "colab": {
     "base_uri": "https://localhost:8080/"
    },
    "executionInfo": {
     "elapsed": 35,
     "status": "ok",
     "timestamp": 1759913955226,
     "user": {
      "displayName": "Arthi Reddy Chinninti",
      "userId": "00025626990419255997"
     },
     "user_tz": -330
    },
    "id": "x01R8Gs4CRMy",
    "outputId": "1abd7572-fa1a-42a1-aae8-3cdc7b86195f"
   },
   "outputs": [
    {
     "name": "stdout",
     "output_type": "stream",
     "text": [
      "[[1. 1. 1.]\n",
      " [1. 1. 1.]\n",
      " [1. 1. 1.]]\n",
      "[[2. 3. 4.]\n",
      " [2. 3. 4.]\n",
      " [2. 3. 4.]]\n"
     ]
    }
   ],
   "source": [
    "arr10=np.ones((3,3))\n",
    "print(arr10)\n",
    "arr11=np.array([1,2,3])\n",
    "print(arr10+arr11)"
   ]
  },
  {
   "cell_type": "code",
   "execution_count": null,
   "metadata": {
    "colab": {
     "base_uri": "https://localhost:8080/"
    },
    "executionInfo": {
     "elapsed": 305,
     "status": "ok",
     "timestamp": 1759914225828,
     "user": {
      "displayName": "Arthi Reddy Chinninti",
      "userId": "00025626990419255997"
     },
     "user_tz": -330
    },
    "id": "Cs_qduB5CpU6",
    "outputId": "d299e891-ba77-4545-f904-38ee5d0e656d"
   },
   "outputs": [
    {
     "name": "stdout",
     "output_type": "stream",
     "text": [
      "[ 5 30 35]\n"
     ]
    }
   ],
   "source": [
    "arr12=np.random.randint(1,50,size=30)\n",
    "arr13=arr12[arr12% 5==0]\n",
    "print(arr13)"
   ]
  },
  {
   "cell_type": "code",
   "execution_count": null,
   "metadata": {
    "colab": {
     "base_uri": "https://localhost:8080/"
    },
    "executionInfo": {
     "elapsed": 157,
     "status": "ok",
     "timestamp": 1759914919772,
     "user": {
      "displayName": "Arthi Reddy Chinninti",
      "userId": "00025626990419255997"
     },
     "user_tz": -330
    },
    "id": "fKpGjHS8DOfQ",
    "outputId": "4b328f8d-49e1-4381-d9ae-ad001768a760"
   },
   "outputs": [
    {
     "name": "stdout",
     "output_type": "stream",
     "text": [
      "[[3 5 7 3]\n",
      " [2 8 4 1]\n",
      " [9 4 8 2]\n",
      " [2 6 3 1]]\n",
      "[3 8 8 1]\n"
     ]
    }
   ],
   "source": [
    "#arr14=np.ones((4,4))\n",
    "arr14=np.array([[3,5,7,3],[2,8,4,1],[9,4,8,2],[2,6,3,1]])\n",
    "print(arr14)\n",
    "idx=np.arange(4)\n",
    "arr15=arr14[idx,idx]\n",
    "print(arr15)"
   ]
  }
 ],
 "metadata": {
  "colab": {
   "authorship_tag": "ABX9TyOXtVVWhypdDzlG+0cD4uXA",
   "provenance": []
  },
  "kernelspec": {
   "display_name": "Python 3",
   "name": "python3"
  },
  "language_info": {
   "name": "python"
  }
 },
 "nbformat": 4,
 "nbformat_minor": 0
}
